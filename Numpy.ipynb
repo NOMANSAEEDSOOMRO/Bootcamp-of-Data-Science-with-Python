{
 "cells": [
  {
   "cell_type": "code",
   "execution_count": 1,
   "metadata": {},
   "outputs": [],
   "source": [
    "import numpy as np"
   ]
  },
  {
   "cell_type": "code",
   "execution_count": 3,
   "metadata": {},
   "outputs": [],
   "source": [
    "array=np.array([1,2,3,4])"
   ]
  },
  {
   "cell_type": "code",
   "execution_count": 4,
   "metadata": {},
   "outputs": [
    {
     "name": "stdout",
     "output_type": "stream",
     "text": [
      "(4,) int32 1 16 4\n"
     ]
    }
   ],
   "source": [
    "print(array.shape,array.dtype,array.ndim,array.nbytes,array.size)"
   ]
  },
  {
   "cell_type": "code",
   "execution_count": 6,
   "metadata": {},
   "outputs": [
    {
     "name": "stdout",
     "output_type": "stream",
     "text": [
      "(2, 4) int32 2 32 8\n"
     ]
    }
   ],
   "source": [
    "array=np.array([[1,2,3,4],[5,6,7,8]])\n",
    "print(array.shape,array.dtype,array.ndim,array.nbytes,array.size)"
   ]
  },
  {
   "cell_type": "code",
   "execution_count": 7,
   "metadata": {},
   "outputs": [
    {
     "name": "stdout",
     "output_type": "stream",
     "text": [
      "(2, 4) int32 2 32 8\n"
     ]
    }
   ],
   "source": [
    "array=np.array([[1,2,3,4],[5,6,7,8]])\n",
    "print(array.shape,\n",
    "      array.dtype,\n",
    "      array.ndim,\n",
    "      array.nbytes,\n",
    "      array.size)"
   ]
  },
  {
   "cell_type": "code",
   "execution_count": 110,
   "metadata": {},
   "outputs": [],
   "source": [
    "def inspect_array(array):\n",
    "    if isinstance(array, np.ndarray):\n",
    "        print('Shape: ', array.shape)\n",
    "        print('Size: ', array.size)\n",
    "        print('Ndim: ', array.ndim)\n",
    "        print('Nbytes: ', array.nbytes)\n",
    "        print('Dtype: ', array.dtype)\n",
    "        print('Type: ', type(array))\n",
    "        return array\n",
    "    else:\n",
    "        return 'The inserted object is not a NumPy array.'"
   ]
  },
  {
   "cell_type": "code",
   "execution_count": 111,
   "metadata": {},
   "outputs": [
    {
     "name": "stdout",
     "output_type": "stream",
     "text": [
      "Shape:  (4,)\n",
      "Size:  4\n",
      "Ndim:  1\n",
      "Nbytes:  16\n",
      "Dtype:  int32\n",
      "Type:  <class 'numpy.ndarray'>\n"
     ]
    },
    {
     "data": {
      "text/plain": [
       "'The inserted object is not a NumPy array.'"
      ]
     },
     "execution_count": 111,
     "metadata": {},
     "output_type": "execute_result"
    }
   ],
   "source": [
    "array = np.array([1, 2, 3, 4])\n",
    "arra = [1, 2, 3, 4]\n",
    "inspect_array(array)\n",
    "inspect_array(arra)"
   ]
  },
  {
   "cell_type": "code",
   "execution_count": 12,
   "metadata": {},
   "outputs": [],
   "source": [
    "def checkingarray(array):\n",
    "    if isinstance(array,np.ndarray):\n",
    "        print('Shape: ', array.shape)\n",
    "        print('Size: ', array.size)\n",
    "        print('Ndim: ', array.ndim)\n",
    "        print('Nbytes: ', array.nbytes)\n",
    "        print('Dtype: ', array.dtype)\n",
    "        print('Type: ', type(array))\n",
    "        return array\n",
    "    else:\n",
    "        return 'The inserted object is not a NumPy array.'\n",
    "    "
   ]
  },
  {
   "cell_type": "code",
   "execution_count": 13,
   "metadata": {},
   "outputs": [
    {
     "name": "stdout",
     "output_type": "stream",
     "text": [
      "Shape:  (3,)\n",
      "Size:  3\n",
      "Ndim:  1\n",
      "Nbytes:  12\n",
      "Dtype:  int32\n",
      "Type:  <class 'numpy.ndarray'>\n"
     ]
    },
    {
     "data": {
      "text/plain": [
       "array([1, 2, 3])"
      ]
     },
     "execution_count": 13,
     "metadata": {},
     "output_type": "execute_result"
    }
   ],
   "source": [
    "a=[1,2,3]\n",
    "arr=np.array(a)\n",
    "checkingarray(arr)"
   ]
  },
  {
   "cell_type": "code",
   "execution_count": 14,
   "metadata": {},
   "outputs": [
    {
     "data": {
      "text/plain": [
       "'The inserted object is not a NumPy array.'"
      ]
     },
     "execution_count": 14,
     "metadata": {},
     "output_type": "execute_result"
    }
   ],
   "source": [
    "a=list(a)\n",
    "checkingarray(a)"
   ]
  },
  {
   "cell_type": "code",
   "execution_count": 18,
   "metadata": {},
   "outputs": [
    {
     "name": "stdout",
     "output_type": "stream",
     "text": [
      "[1 2 3]\n"
     ]
    },
    {
     "data": {
      "text/plain": [
       "numpy.ndarray"
      ]
     },
     "execution_count": 18,
     "metadata": {},
     "output_type": "execute_result"
    }
   ],
   "source": [
    "l=[1,2,3]\n",
    "array=np.array(l)\n",
    "print(array)\n",
    "type(array)"
   ]
  },
  {
   "cell_type": "code",
   "execution_count": 21,
   "metadata": {},
   "outputs": [
    {
     "data": {
      "text/plain": [
       "[1, 2, 3, 4, 5, 6, 7, 8, 9, 10]"
      ]
     },
     "execution_count": 21,
     "metadata": {},
     "output_type": "execute_result"
    }
   ],
   "source": [
    "arr=list(range(1,11))\n",
    "arr"
   ]
  },
  {
   "cell_type": "code",
   "execution_count": 25,
   "metadata": {},
   "outputs": [
    {
     "data": {
      "text/plain": [
       "[1900, 1910, 1920, 1930, 1940, 1950, 1960, 1970, 1980, 1990, 2000]"
      ]
     },
     "execution_count": 25,
     "metadata": {},
     "output_type": "execute_result"
    }
   ],
   "source": [
    "arr=list(range(1900,2010,10))\n",
    "arr"
   ]
  },
  {
   "cell_type": "code",
   "execution_count": 31,
   "metadata": {},
   "outputs": [
    {
     "data": {
      "text/plain": [
       "array([1, 1, 1, 1])"
      ]
     },
     "execution_count": 31,
     "metadata": {},
     "output_type": "execute_result"
    }
   ],
   "source": [
    "array=np.ones(4 , dtype=int)\n",
    "array"
   ]
  },
  {
   "cell_type": "code",
   "execution_count": 32,
   "metadata": {},
   "outputs": [
    {
     "data": {
      "text/plain": [
       "array([1., 1., 1., 1.])"
      ]
     },
     "execution_count": 32,
     "metadata": {},
     "output_type": "execute_result"
    }
   ],
   "source": [
    "array=np.ones(4)\n",
    "array"
   ]
  },
  {
   "cell_type": "code",
   "execution_count": 34,
   "metadata": {},
   "outputs": [
    {
     "data": {
      "text/plain": [
       "array([[1., 1., 1., 1.],\n",
       "       [1., 1., 1., 1.],\n",
       "       [1., 1., 1., 1.],\n",
       "       [1., 1., 1., 1.]])"
      ]
     },
     "execution_count": 34,
     "metadata": {},
     "output_type": "execute_result"
    }
   ],
   "source": [
    "array=np.ones([4,4])\n",
    "array"
   ]
  },
  {
   "cell_type": "code",
   "execution_count": 37,
   "metadata": {},
   "outputs": [
    {
     "data": {
      "text/plain": [
       "array([0., 0., 0., 0., 0., 0., 0., 0., 0., 0.])"
      ]
     },
     "execution_count": 37,
     "metadata": {},
     "output_type": "execute_result"
    }
   ],
   "source": [
    "np.zeros(shape=10)"
   ]
  },
  {
   "cell_type": "code",
   "execution_count": 40,
   "metadata": {},
   "outputs": [
    {
     "data": {
      "text/plain": [
       "array([[0., 0., 0., 0.],\n",
       "       [0., 0., 0., 0.],\n",
       "       [0., 0., 0., 0.],\n",
       "       [0., 0., 0., 0.],\n",
       "       [0., 0., 0., 0.],\n",
       "       [0., 0., 0., 0.],\n",
       "       [0., 0., 0., 0.],\n",
       "       [0., 0., 0., 0.],\n",
       "       [0., 0., 0., 0.]])"
      ]
     },
     "execution_count": 40,
     "metadata": {},
     "output_type": "execute_result"
    }
   ],
   "source": [
    "np.zeros(shape=(9,4))"
   ]
  },
  {
   "cell_type": "code",
   "execution_count": 54,
   "metadata": {},
   "outputs": [
    {
     "data": {
      "text/plain": [
       "array([[ 5],\n",
       "       [10],\n",
       "       [15],\n",
       "       [20],\n",
       "       [25],\n",
       "       [30],\n",
       "       [35],\n",
       "       [40],\n",
       "       [45],\n",
       "       [50]])"
      ]
     },
     "execution_count": 54,
     "metadata": {},
     "output_type": "execute_result"
    }
   ],
   "source": [
    "arr=np.arange(5,55,5).reshape(-1,1)\n",
    "arr"
   ]
  },
  {
   "cell_type": "code",
   "execution_count": 45,
   "metadata": {},
   "outputs": [
    {
     "data": {
      "text/plain": [
       "array([ -5, -10, -15, -20, -25, -30, -35, -40, -45])"
      ]
     },
     "execution_count": 45,
     "metadata": {},
     "output_type": "execute_result"
    }
   ],
   "source": [
    "arr=np.arange(-5,-50,-5)\n",
    "arr"
   ]
  },
  {
   "cell_type": "code",
   "execution_count": 53,
   "metadata": {},
   "outputs": [
    {
     "data": {
      "text/plain": [
       "array([[ 50,  52,  54,  56,  58,  60,  62,  64,  66,  68],\n",
       "       [ 70,  72,  74,  76,  78,  80,  82,  84,  86,  88],\n",
       "       [ 90,  92,  94,  96,  98, 100, 102, 104, 106, 108],\n",
       "       [110, 112, 114, 116, 118, 120, 122, 124, 126, 128],\n",
       "       [130, 132, 134, 136, 138, 140, 142, 144, 146, 148]])"
      ]
     },
     "execution_count": 53,
     "metadata": {},
     "output_type": "execute_result"
    }
   ],
   "source": [
    "arr=np.arange(50,150,2).reshape((5,10))\n",
    "arr"
   ]
  },
  {
   "cell_type": "code",
   "execution_count": 59,
   "metadata": {},
   "outputs": [
    {
     "data": {
      "text/plain": [
       "array([[-5., -5., -5., -5.],\n",
       "       [-5., -5., -5., -5.],\n",
       "       [-5., -5., -5., -5.],\n",
       "       [-5., -5., -5., -5.]])"
      ]
     },
     "execution_count": 59,
     "metadata": {},
     "output_type": "execute_result"
    }
   ],
   "source": [
    "arr=np.full(10,5,dtype=float)\n",
    "arr"
   ]
  },
  {
   "cell_type": "code",
   "execution_count": 60,
   "metadata": {},
   "outputs": [
    {
     "data": {
      "text/plain": [
       "array([[-5., -5., -5., -5.],\n",
       "       [-5., -5., -5., -5.],\n",
       "       [-5., -5., -5., -5.],\n",
       "       [-5., -5., -5., -5.]])"
      ]
     },
     "execution_count": 60,
     "metadata": {},
     "output_type": "execute_result"
    }
   ],
   "source": [
    "arr=np.full([4,4],-5,dtype=float)\n",
    "arr"
   ]
  },
  {
   "cell_type": "code",
   "execution_count": 62,
   "metadata": {},
   "outputs": [
    {
     "data": {
      "text/plain": [
       "array([[3, 3, 3],\n",
       "       [3, 3, 3],\n",
       "       [3, 3, 3]])"
      ]
     },
     "execution_count": 62,
     "metadata": {},
     "output_type": "execute_result"
    }
   ],
   "source": [
    "arr=np.full([3,3],3,dtype=int)\n",
    "arr"
   ]
  },
  {
   "cell_type": "code",
   "execution_count": 5,
   "metadata": {},
   "outputs": [
    {
     "data": {
      "text/plain": [
       "array([[1.78020848e-306, 9.34605716e-307],\n",
       "       [2.13616461e-306, 1.60220393e-306],\n",
       "       [2.44758125e-307, 2.00272775e-307]])"
      ]
     },
     "execution_count": 5,
     "metadata": {},
     "output_type": "execute_result"
    }
   ],
   "source": [
    "an_array = np.empty([3,2])\n",
    "an_array"
   ]
  },
  {
   "cell_type": "code",
   "execution_count": 67,
   "metadata": {},
   "outputs": [
    {
     "name": "stdout",
     "output_type": "stream",
     "text": [
      "[[ True False False False]\n",
      " [ True  True  True  True]\n",
      " [False False  True False]\n",
      " [False  True  True False]]\n",
      "There are 8 missing data in K.\n"
     ]
    }
   ],
   "source": [
    "K = np.array([\n",
    "    [np.nan, 1, 10, 0],\n",
    "    [np.nan,np.nan,np.nan,np.nan],\n",
    "    [100, 50, np.nan, -25],\n",
    "    [30, np.nan, np.nan, 130]])\n",
    " \n",
    "print(np.isnan(K))\n",
    "print(f'There are {np.isnan(K).sum()} missing data in K.')"
   ]
  },
  {
   "cell_type": "code",
   "execution_count": 77,
   "metadata": {},
   "outputs": [
    {
     "ename": "SyntaxError",
     "evalue": "invalid syntax (<ipython-input-77-a737cef377d6>, line 6)",
     "output_type": "error",
     "traceback": [
      "\u001b[1;36m  File \u001b[1;32m\"<ipython-input-77-a737cef377d6>\"\u001b[1;36m, line \u001b[1;32m6\u001b[0m\n\u001b[1;33m    print('There are' +np.isnan(k).sum())+ 'exist in this array')\u001b[0m\n\u001b[1;37m                                                                ^\u001b[0m\n\u001b[1;31mSyntaxError\u001b[0m\u001b[1;31m:\u001b[0m invalid syntax\n"
     ]
    }
   ],
   "source": [
    "k=np.array([\n",
    "    [1,2,np.nan],\n",
    "    [np.nan,np.nan,np.nan],\n",
    "    [np.nan,3,4]])\n",
    "print(np.isnan(k))\n",
    "print('There are' +np.isnan(k).sum())+ 'exist in this array')"
   ]
  },
  {
   "cell_type": "code",
   "execution_count": 83,
   "metadata": {},
   "outputs": [
    {
     "name": "stdout",
     "output_type": "stream",
     "text": [
      "There are 5 K missing in this array\n"
     ]
    }
   ],
   "source": [
    "print(f'There are {np.isnan(k).sum()} K missing in this array')"
   ]
  },
  {
   "cell_type": "code",
   "execution_count": 87,
   "metadata": {},
   "outputs": [
    {
     "data": {
      "text/plain": [
       "array([ 1,  6, 11, 16, 21])"
      ]
     },
     "execution_count": 87,
     "metadata": {},
     "output_type": "execute_result"
    }
   ],
   "source": [
    "np.linspace(1,21,5 , dtype=int)"
   ]
  },
  {
   "cell_type": "code",
   "execution_count": 88,
   "metadata": {},
   "outputs": [
    {
     "data": {
      "text/plain": [
       "array([ 1.,  6., 11., 16., 21.])"
      ]
     },
     "execution_count": 88,
     "metadata": {},
     "output_type": "execute_result"
    }
   ],
   "source": [
    "np.linspace(1,21,5)"
   ]
  },
  {
   "cell_type": "code",
   "execution_count": 91,
   "metadata": {},
   "outputs": [
    {
     "data": {
      "text/plain": [
       "array([[1.00000000e+01],\n",
       "       [3.59381366e+06],\n",
       "       [1.29154967e+12],\n",
       "       [4.64158883e+17],\n",
       "       [1.66810054e+23],\n",
       "       [5.99484250e+28],\n",
       "       [2.15443469e+34],\n",
       "       [7.74263683e+39],\n",
       "       [2.78255940e+45],\n",
       "       [1.00000000e+51]])"
      ]
     },
     "execution_count": 91,
     "metadata": {},
     "output_type": "execute_result"
    }
   ],
   "source": [
    "np.logspace(1,51,10).reshape(-1,1)"
   ]
  },
  {
   "cell_type": "code",
   "execution_count": 92,
   "metadata": {},
   "outputs": [
    {
     "data": {
      "text/plain": [
       "array([[ 5,  0,  0,  0,  0,  0,  0,  0,  0,  0],\n",
       "       [ 0, 10,  0,  0,  0,  0,  0,  0,  0,  0],\n",
       "       [ 0,  0, 15,  0,  0,  0,  0,  0,  0,  0],\n",
       "       [ 0,  0,  0, 20,  0,  0,  0,  0,  0,  0],\n",
       "       [ 0,  0,  0,  0, 25,  0,  0,  0,  0,  0],\n",
       "       [ 0,  0,  0,  0,  0, 30,  0,  0,  0,  0],\n",
       "       [ 0,  0,  0,  0,  0,  0, 35,  0,  0,  0],\n",
       "       [ 0,  0,  0,  0,  0,  0,  0, 40,  0,  0],\n",
       "       [ 0,  0,  0,  0,  0,  0,  0,  0, 45,  0],\n",
       "       [ 0,  0,  0,  0,  0,  0,  0,  0,  0, 50]])"
      ]
     },
     "execution_count": 92,
     "metadata": {},
     "output_type": "execute_result"
    }
   ],
   "source": [
    "np.diag(range(5,51,5))"
   ]
  },
  {
   "cell_type": "code",
   "execution_count": 93,
   "metadata": {},
   "outputs": [
    {
     "data": {
      "text/plain": [
       "array([[1., 0., 0., 0., 0., 0., 0., 0., 0., 0.],\n",
       "       [0., 1., 0., 0., 0., 0., 0., 0., 0., 0.],\n",
       "       [0., 0., 1., 0., 0., 0., 0., 0., 0., 0.],\n",
       "       [0., 0., 0., 1., 0., 0., 0., 0., 0., 0.],\n",
       "       [0., 0., 0., 0., 1., 0., 0., 0., 0., 0.],\n",
       "       [0., 0., 0., 0., 0., 1., 0., 0., 0., 0.],\n",
       "       [0., 0., 0., 0., 0., 0., 1., 0., 0., 0.],\n",
       "       [0., 0., 0., 0., 0., 0., 0., 1., 0., 0.],\n",
       "       [0., 0., 0., 0., 0., 0., 0., 0., 1., 0.],\n",
       "       [0., 0., 0., 0., 0., 0., 0., 0., 0., 1.]])"
      ]
     },
     "execution_count": 93,
     "metadata": {},
     "output_type": "execute_result"
    }
   ],
   "source": [
    "#Use the np.eye() function (or even np.identity()) to obtain the following array.\n",
    "np.eye(10)\n"
   ]
  },
  {
   "cell_type": "code",
   "execution_count": 94,
   "metadata": {},
   "outputs": [
    {
     "data": {
      "text/plain": [
       "array([[1., 0., 0., 0., 0., 0., 0., 0., 0., 0.],\n",
       "       [0., 1., 0., 0., 0., 0., 0., 0., 0., 0.],\n",
       "       [0., 0., 1., 0., 0., 0., 0., 0., 0., 0.],\n",
       "       [0., 0., 0., 1., 0., 0., 0., 0., 0., 0.],\n",
       "       [0., 0., 0., 0., 1., 0., 0., 0., 0., 0.],\n",
       "       [0., 0., 0., 0., 0., 1., 0., 0., 0., 0.],\n",
       "       [0., 0., 0., 0., 0., 0., 1., 0., 0., 0.],\n",
       "       [0., 0., 0., 0., 0., 0., 0., 1., 0., 0.],\n",
       "       [0., 0., 0., 0., 0., 0., 0., 0., 1., 0.],\n",
       "       [0., 0., 0., 0., 0., 0., 0., 0., 0., 1.]])"
      ]
     },
     "execution_count": 94,
     "metadata": {},
     "output_type": "execute_result"
    }
   ],
   "source": [
    "np.identity(10)"
   ]
  },
  {
   "cell_type": "code",
   "execution_count": 95,
   "metadata": {},
   "outputs": [],
   "source": [
    "array1 = np.arange(1,11)\n",
    "array2 = np.linspace(1,50,10)\n",
    "array3 = np.array(range(51))\n",
    "array4 = np.logspace(1,10,5)\n",
    "array5 = np.diag(range(5,31,5))"
   ]
  },
  {
   "cell_type": "code",
   "execution_count": 103,
   "metadata": {},
   "outputs": [
    {
     "name": "stdout",
     "output_type": "stream",
     "text": [
      "Sum of the elements of array 1: 55\n",
      "Sum of the elements of array 2: 255.0\n",
      "Sum of the elements of array 3: 1275\n",
      "Sum of the elements of array 4: 10056552148.564463\n",
      "Sum of the elements of array 5: [ 5 10 15 20 25 30]\n"
     ]
    }
   ],
   "source": [
    "print(f'Sum of the elements of array 1: {sum(array1)}')\n",
    "print(f'Sum of the elements of array 2: {sum(array2)}')\n",
    "print(f'Sum of the elements of array 3: {sum(array3)}')\n",
    "print(f'Sum of the elements of array 4: {sum(array4)}')\n",
    "print(f'Sum of the elements of array 5: {sum(array5)}')"
   ]
  },
  {
   "cell_type": "code",
   "execution_count": 107,
   "metadata": {},
   "outputs": [
    {
     "data": {
      "text/plain": [
       "105"
      ]
     },
     "execution_count": 107,
     "metadata": {},
     "output_type": "execute_result"
    }
   ],
   "source": [
    "sum=0\n",
    "for a in array5:\n",
    "    for b in a:\n",
    "        sum +=b\n",
    "sum        "
   ]
  },
  {
   "cell_type": "code",
   "execution_count": 108,
   "metadata": {},
   "outputs": [
    {
     "name": "stdout",
     "output_type": "stream",
     "text": [
      "Sum of the elements of array 1:  55\n",
      "Sum of the elements of array 2:  255.0\n",
      "Sum of the elements of array 3:  1275\n",
      "Sum of the elements of array 4:  10056552148.564463\n",
      "Sum of the elements of array 5:  105\n"
     ]
    }
   ],
   "source": [
    "arrays = [array1, array2, array3, array4, array5]\n",
    "for index, array in enumerate(arrays, start = 1):\n",
    "    print(f'Sum of the elements of array {index}: ', array.sum())"
   ]
  },
  {
   "cell_type": "code",
   "execution_count": 109,
   "metadata": {},
   "outputs": [
    {
     "name": "stdout",
     "output_type": "stream",
     "text": [
      "[ 1  2  3  4  5  6  7  8  9 10]\n",
      "[ 1.          6.44444444 11.88888889 17.33333333 22.77777778 28.22222222\n",
      " 33.66666667 39.11111111 44.55555556 50.        ]\n",
      "[ 0  1  2  3  4  5  6  7  8  9 10 11 12 13 14 15 16 17 18 19 20 21 22 23\n",
      " 24 25 26 27 28 29 30 31 32 33 34 35 36 37 38 39 40 41 42 43 44 45 46 47\n",
      " 48 49 50]\n",
      "[1.00000000e+01 1.77827941e+03 3.16227766e+05 5.62341325e+07\n",
      " 1.00000000e+10]\n",
      "[[ 5  0  0  0  0  0]\n",
      " [ 0 10  0  0  0  0]\n",
      " [ 0  0 15  0  0  0]\n",
      " [ 0  0  0 20  0  0]\n",
      " [ 0  0  0  0 25  0]\n",
      " [ 0  0  0  0  0 30]]\n"
     ]
    }
   ],
   "source": [
    "for array in arrays:\n",
    "    print(array)"
   ]
  },
  {
   "cell_type": "code",
   "execution_count": 112,
   "metadata": {},
   "outputs": [
    {
     "data": {
      "text/plain": [
       "array([[ 4, 10, 38],\n",
       "       [89, 62, 91],\n",
       "       [81, 60, 48],\n",
       "       [66, 31, 41],\n",
       "       [65, 77,  8]])"
      ]
     },
     "execution_count": 112,
     "metadata": {},
     "output_type": "execute_result"
    }
   ],
   "source": [
    "matrix = np.array(np.random.randint(1,100,15)).reshape(5,3)\n",
    "matrix"
   ]
  },
  {
   "cell_type": "code",
   "execution_count": 114,
   "metadata": {},
   "outputs": [
    {
     "data": {
      "text/plain": [
       "771"
      ]
     },
     "execution_count": 114,
     "metadata": {},
     "output_type": "execute_result"
    }
   ],
   "source": [
    "np.sum(matrix)"
   ]
  },
  {
   "cell_type": "code",
   "execution_count": 116,
   "metadata": {},
   "outputs": [
    {
     "data": {
      "text/plain": [
       "5"
      ]
     },
     "execution_count": 116,
     "metadata": {},
     "output_type": "execute_result"
    }
   ],
   "source": [
    "np.shape(matrix)[0]"
   ]
  },
  {
   "cell_type": "code",
   "execution_count": 117,
   "metadata": {},
   "outputs": [
    {
     "data": {
      "text/plain": [
       "3"
      ]
     },
     "execution_count": 117,
     "metadata": {},
     "output_type": "execute_result"
    }
   ],
   "source": [
    "np.shape(matrix)[1]"
   ]
  },
  {
   "cell_type": "code",
   "execution_count": 118,
   "metadata": {},
   "outputs": [
    {
     "data": {
      "text/plain": [
       "array([305, 240, 226])"
      ]
     },
     "execution_count": 118,
     "metadata": {},
     "output_type": "execute_result"
    }
   ],
   "source": [
    "np.sum(matrix ,axis=0)"
   ]
  },
  {
   "cell_type": "code",
   "execution_count": 119,
   "metadata": {},
   "outputs": [
    {
     "data": {
      "text/plain": [
       "771"
      ]
     },
     "execution_count": 119,
     "metadata": {},
     "output_type": "execute_result"
    }
   ],
   "source": [
    "matrix.sum()"
   ]
  },
  {
   "cell_type": "code",
   "execution_count": 120,
   "metadata": {},
   "outputs": [
    {
     "data": {
      "text/plain": [
       "array([305, 240, 226])"
      ]
     },
     "execution_count": 120,
     "metadata": {},
     "output_type": "execute_result"
    }
   ],
   "source": [
    "matrix.sum(axis=0)"
   ]
  },
  {
   "cell_type": "code",
   "execution_count": 121,
   "metadata": {},
   "outputs": [
    {
     "data": {
      "text/plain": [
       "array([ 52, 242, 189, 138, 150])"
      ]
     },
     "execution_count": 121,
     "metadata": {},
     "output_type": "execute_result"
    }
   ],
   "source": [
    "matrix.sum(axis=1)"
   ]
  },
  {
   "cell_type": "code",
   "execution_count": 126,
   "metadata": {},
   "outputs": [
    {
     "name": "stdout",
     "output_type": "stream",
     "text": [
      "Min of the elements of array1: -1 and Max of the elements of array 1: 27\n",
      "Min of the elements of array 1: -83 and Max of the elements of array 1: 27\n",
      "Min of the elements of array 1: -1.240054453580131 and Max of the elements of array 1: 27\n",
      "Min of the elements of array 1: 12 and Max of the elements of array 1: 27\n",
      "Min of the elements of array2: -1 and Max of the elements of array 2: 27\n",
      "Min of the elements of array 2: -83 and Max of the elements of array 2: 27\n",
      "Min of the elements of array 2: -1.240054453580131 and Max of the elements of array 2: 27\n",
      "Min of the elements of array 2: 12 and Max of the elements of array 2: 27\n",
      "Min of the elements of array3: -1 and Max of the elements of array 3: 27\n",
      "Min of the elements of array 3: -83 and Max of the elements of array 3: 27\n",
      "Min of the elements of array 3: -1.240054453580131 and Max of the elements of array 3: 27\n",
      "Min of the elements of array 3: 12 and Max of the elements of array 3: 27\n",
      "Min of the elements of array4: -1 and Max of the elements of array 4: 27\n",
      "Min of the elements of array 4: -83 and Max of the elements of array 4: 27\n",
      "Min of the elements of array 4: -1.240054453580131 and Max of the elements of array 4: 27\n",
      "Min of the elements of array 4: 12 and Max of the elements of array 4: 27\n"
     ]
    }
   ],
   "source": [
    "array1 = np.array([-1, 10, 3, 4, 7, 27])\n",
    "array2 = np.random.randint(-100,300,30)\n",
    "array3 = np.random.randn(10)\n",
    "array4 = np.array(range(50,10,-2))\n",
    "arrays= [array1, array2, array3, array4,]\n",
    "for index,min in enumerate (arrays, start=1):\n",
    "    print(f'Min of the elements of array{index}: {np.min(array1)} and Max of the elements of array {index}: {np.max(array1)}')\n",
    "    print(f'Min of the elements of array {index}: {np.min(array2)} and Max of the elements of array {index}: {np.max(array1)}')\n",
    "    print(f'Min of the elements of array {index}: {np.min(array3)} and Max of the elements of array {index}: {np.max(array1)}')\n",
    "    print(f'Min of the elements of array {index}: {np.min(array4)} and Max of the elements of array {index}: {np.max(array1)}')"
   ]
  },
  {
   "cell_type": "code",
   "execution_count": 3,
   "metadata": {},
   "outputs": [
    {
     "name": "stdout",
     "output_type": "stream",
     "text": [
      "Min of the elements of array 1: -1 and Max of the elements of array 1: -1\n",
      "Min of the elements of array 2: -99 and Max of the elements of array 2: -99\n",
      "Min of the elements of array 3: -2.1881222631822825 and Max of the elements of array 3: -2.1881222631822825\n",
      "Min of the elements of array 4: 12 and Max of the elements of array 4: 12\n"
     ]
    },
    {
     "data": {
      "text/plain": [
       "array([-0.74553341, -0.79866619, -2.18812226,  0.39778298, -0.0725294 ,\n",
       "        0.60944427, -0.43775932,  1.63396204, -1.863671  , -0.44568008])"
      ]
     },
     "execution_count": 3,
     "metadata": {},
     "output_type": "execute_result"
    }
   ],
   "source": [
    "array1 = np.array([-1, 10, 3, 4, 7, 27])\n",
    "array2 = np.random.randint(-100,300,30)\n",
    "array3 = np.random.randn(10)\n",
    "array3\n",
    "array4 = np.array(range(50,10,-2))\n",
    "arrays= [array1, array2, array3, array4,]\n",
    "for index,array in enumerate (arrays, start=1):\n",
    "    print(f'Min of the elements of array {index}: {np.min(array)} and Max of the elements of array {index}: {np.min(array)}')\n",
    "array3"
   ]
  },
  {
   "cell_type": "code",
   "execution_count": 140,
   "metadata": {},
   "outputs": [],
   "source": [
    "def arrayfunction(array):\n",
    "    print(np.min(array))\n",
    "    print(np.min(array,axis=0))\n",
    "    print(np.min(array,axis=1))\n",
    "    np.max(array))\n",
    "    np.max(array,axis=0))\n",
    "    print(np.max(array,axis=1))"
   ]
  },
  {
   "cell_type": "code",
   "execution_count": 149,
   "metadata": {},
   "outputs": [
    {
     "data": {
      "text/plain": [
       "array([[1, 2, 3],\n",
       "       [4, 5, 6],\n",
       "       [7, 8, 9]])"
      ]
     },
     "execution_count": 149,
     "metadata": {},
     "output_type": "execute_result"
    }
   ],
   "source": [
    "a=np.array([1,2,3,4,5,6,7,8,9]).reshape(3,3)\n",
    "a"
   ]
  },
  {
   "cell_type": "code",
   "execution_count": 153,
   "metadata": {},
   "outputs": [],
   "source": [
    "arrayfunction(a)\n"
   ]
  },
  {
   "cell_type": "code",
   "execution_count": 155,
   "metadata": {},
   "outputs": [
    {
     "data": {
      "text/plain": [
       "array([[-564, -459, -429,  724, -805],\n",
       "       [ -63, -714,  -68, -644,  997],\n",
       "       [-966,  -25, -276, -151,  220],\n",
       "       [-202,  835,  488,  606, -423],\n",
       "       [-617,  902,   61, -461, -260],\n",
       "       [ 316,  196, -635, -860,  616],\n",
       "       [-822,  480,  999,  996, -576],\n",
       "       [ 939, -416,  466,  641, -280],\n",
       "       [-890,  852,  147,  330,  450],\n",
       "       [-935,  675,  951, -241, -532]])"
      ]
     },
     "execution_count": 155,
     "metadata": {},
     "output_type": "execute_result"
    }
   ],
   "source": [
    "np.random.randint(-1000,1000,50).reshape(10,5)"
   ]
  },
  {
   "cell_type": "code",
   "execution_count": 154,
   "metadata": {},
   "outputs": [
    {
     "name": "stdout",
     "output_type": "stream",
     "text": [
      "Maximum value of the matrix:  966\n",
      "Maximum value per column:  [966 799 651 889 821]\n",
      "Maximum value per line:  [821 966 177 799 803 516 612 483 778 919]\n",
      "Minimum value of the matrix:  -953\n",
      "Minimum value per column:  [-838 -953 -859 -933 -931]\n",
      "Minimum value per line:  [-838   98 -933 -108 -551 -953   26 -798 -648 -664]\n"
     ]
    }
   ],
   "source": [
    "import numpy as np\n",
    "def info_matrix(matrix):\n",
    "    \n",
    "    if isinstance(matrix,np.ndarray) and matrix.ndim == 2:\n",
    "        print(f'Maximum value of the matrix: ', matrix.max())\n",
    "        print(f'Maximum value per column: ', matrix.max(axis = 0))\n",
    "        print(f'Maximum value per line: ', matrix.max(axis = 1))\n",
    "        print(f'Minimum value of the matrix: ', matrix.min())\n",
    "        print(f'Minimum value per column: ', matrix.min(axis = 0))\n",
    "        print(f'Minimum value per line: ', matrix.min(axis =1))\n",
    "    else:\n",
    "        return None\n",
    "    \n",
    "if __name__=='__main__':\n",
    "    matrix = np.random.randint(-1000,1000,50).reshape(10,5)\n",
    "    info_matrix(matrix)"
   ]
  },
  {
   "cell_type": "code",
   "execution_count": 156,
   "metadata": {},
   "outputs": [
    {
     "data": {
      "text/plain": [
       "numpy.ndarray"
      ]
     },
     "execution_count": 156,
     "metadata": {},
     "output_type": "execute_result"
    }
   ],
   "source": [
    "a=np.array(2)\n",
    "type(a)"
   ]
  },
  {
   "cell_type": "code",
   "execution_count": 2,
   "metadata": {},
   "outputs": [],
   "source": [
    "import numpy as np\n",
    "arr = np.random.normal(40,0.5,size = (300))"
   ]
  },
  {
   "cell_type": "code",
   "execution_count": 5,
   "metadata": {},
   "outputs": [
    {
     "data": {
      "text/plain": [
       "39.92148816608055"
      ]
     },
     "execution_count": 5,
     "metadata": {},
     "output_type": "execute_result"
    }
   ],
   "source": [
    "arr.mean()"
   ]
  },
  {
   "cell_type": "code",
   "execution_count": 9,
   "metadata": {},
   "outputs": [
    {
     "data": {
      "text/plain": [
       "0.44855772802622956"
      ]
     },
     "execution_count": 9,
     "metadata": {},
     "output_type": "execute_result"
    }
   ],
   "source": [
    "arr.std()"
   ]
  },
  {
   "cell_type": "code",
   "execution_count": 10,
   "metadata": {},
   "outputs": [
    {
     "data": {
      "text/plain": [
       "41.179149862983984"
      ]
     },
     "execution_count": 10,
     "metadata": {},
     "output_type": "execute_result"
    }
   ],
   "source": [
    "arr.max()"
   ]
  },
  {
   "cell_type": "code",
   "execution_count": 12,
   "metadata": {},
   "outputs": [
    {
     "data": {
      "text/plain": [
       "38.82001360575146"
      ]
     },
     "execution_count": 12,
     "metadata": {},
     "output_type": "execute_result"
    }
   ],
   "source": [
    "arr.min()"
   ]
  },
  {
   "cell_type": "code",
   "execution_count": 13,
   "metadata": {},
   "outputs": [
    {
     "data": {
      "text/plain": [
       "0.20120403537205295"
      ]
     },
     "execution_count": 13,
     "metadata": {},
     "output_type": "execute_result"
    }
   ],
   "source": [
    "arr.var()"
   ]
  },
  {
   "cell_type": "code",
   "execution_count": 15,
   "metadata": {},
   "outputs": [
    {
     "data": {
      "text/plain": [
       "39.942473013984625"
      ]
     },
     "execution_count": 15,
     "metadata": {},
     "output_type": "execute_result"
    }
   ],
   "source": [
    "np.median(arr)"
   ]
  },
  {
   "cell_type": "code",
   "execution_count": 18,
   "metadata": {},
   "outputs": [],
   "source": [
    "x = np.random.rand(100)\n",
    "y = np.random.uniform(size=100)"
   ]
  },
  {
   "cell_type": "code",
   "execution_count": 19,
   "metadata": {},
   "outputs": [
    {
     "data": {
      "text/plain": [
       "array([[ 1.        , -0.09833327],\n",
       "       [-0.09833327,  1.        ]])"
      ]
     },
     "execution_count": 19,
     "metadata": {},
     "output_type": "execute_result"
    }
   ],
   "source": [
    "np.corrcoef(x,y)"
   ]
  },
  {
   "cell_type": "code",
   "execution_count": 20,
   "metadata": {},
   "outputs": [
    {
     "data": {
      "text/plain": [
       "array([[ 0.08132154, -0.0080916 ],\n",
       "       [-0.0080916 ,  0.08326489]])"
      ]
     },
     "execution_count": 20,
     "metadata": {},
     "output_type": "execute_result"
    }
   ],
   "source": [
    "np.cov(x,y)"
   ]
  },
  {
   "cell_type": "code",
   "execution_count": 21,
   "metadata": {},
   "outputs": [],
   "source": [
    "A = np.array([[11, 15, 33, 105],\n",
    "              [1, 140, 45, 90],\n",
    "              [67, 230, 78, 99]])"
   ]
  },
  {
   "cell_type": "code",
   "execution_count": 22,
   "metadata": {},
   "outputs": [
    {
     "data": {
      "text/plain": [
       "230"
      ]
     },
     "execution_count": 22,
     "metadata": {},
     "output_type": "execute_result"
    }
   ],
   "source": [
    "np.max(A)"
   ]
  },
  {
   "cell_type": "code",
   "execution_count": 23,
   "metadata": {},
   "outputs": [
    {
     "data": {
      "text/plain": [
       "9"
      ]
     },
     "execution_count": 23,
     "metadata": {},
     "output_type": "execute_result"
    }
   ],
   "source": [
    "np.argmax(A)"
   ]
  },
  {
   "cell_type": "code",
   "execution_count": 24,
   "metadata": {},
   "outputs": [
    {
     "name": "stdout",
     "output_type": "stream",
     "text": [
      "The min value of array is 3 and the index is 4\n"
     ]
    }
   ],
   "source": [
    "B = np.array([\n",
    "    [73, 22, 20, 62,  3],\n",
    "    [68, 84, 27, 59, 93],\n",
    "    [48, 52,  4, 55, 50],\n",
    "    [42, 23, 63, 67,  4],\n",
    "    [44, 30, 41, 31, 29]])\n",
    "print(f'The min value of array is {B.min()} and the index is {B.argmin()}')"
   ]
  },
  {
   "cell_type": "code",
   "execution_count": 44,
   "metadata": {},
   "outputs": [],
   "source": [
    "def arrayinfo(array):\n",
    "    if isinstance(array,np.ndarray):\n",
    "        print('min: ', array.min())\n",
    "        print('max: ', array.max())\n",
    "        print('mean: ', array.mean())\n",
    "        print('median: ', np.median(array))\n",
    "        print('Variance: ', np.var(array))\n",
    "        print('type: ', type(array))\n",
    "        return array\n",
    "    else:\n",
    "        return 'The inserted object is not a NumPy array.'\n",
    "        "
   ]
  },
  {
   "cell_type": "code",
   "execution_count": 45,
   "metadata": {},
   "outputs": [
    {
     "name": "stdout",
     "output_type": "stream",
     "text": [
      "min:  1\n",
      "max:  23\n",
      "mean:  7.714285714285714\n",
      "median:  6.0\n",
      "Variance:  43.34693877551019\n",
      "type:  <class 'numpy.ndarray'>\n"
     ]
    },
    {
     "data": {
      "text/plain": [
       "array([ 1, 23,  4,  5,  6,  7,  8])"
      ]
     },
     "execution_count": 45,
     "metadata": {},
     "output_type": "execute_result"
    }
   ],
   "source": [
    "a=np.array([1,23,4,5,6,7,8])\n",
    "arrayinfo(a)"
   ]
  },
  {
   "cell_type": "code",
   "execution_count": 46,
   "metadata": {},
   "outputs": [
    {
     "data": {
      "text/plain": [
       "array([ 1,  3,  4,  5,  7, 11])"
      ]
     },
     "execution_count": 46,
     "metadata": {},
     "output_type": "execute_result"
    }
   ],
   "source": [
    "A = np.array([\n",
    "    [1, 3, 3, 4, 5],\n",
    "    [4, 7, 11, 3, 5],\n",
    "    [1, 11, 4, 4, 11]])\n",
    " \n",
    "B = np.unique(A)\n",
    "B"
   ]
  },
  {
   "cell_type": "code",
   "execution_count": 47,
   "metadata": {},
   "outputs": [],
   "source": [
    "array1 = np.array([10, 20, 30, 40])\n",
    "array2 = np.array([100, 30, 5, 1, 40, 100, 20, 130, 155,170])"
   ]
  },
  {
   "cell_type": "code",
   "execution_count": 51,
   "metadata": {},
   "outputs": [
    {
     "data": {
      "text/plain": [
       "array([10, 30, 40])"
      ]
     },
     "execution_count": 51,
     "metadata": {},
     "output_type": "execute_result"
    }
   ],
   "source": [
    "array1[[0,2,-1]]\n"
   ]
  },
  {
   "cell_type": "code",
   "execution_count": 52,
   "metadata": {},
   "outputs": [
    {
     "data": {
      "text/plain": [
       "array([100,   5, 170])"
      ]
     },
     "execution_count": 52,
     "metadata": {},
     "output_type": "execute_result"
    }
   ],
   "source": [
    "array2[[0,2,-1]]"
   ]
  },
  {
   "cell_type": "code",
   "execution_count": 53,
   "metadata": {},
   "outputs": [
    {
     "data": {
      "text/plain": [
       "array([10, 20, 30, 40])"
      ]
     },
     "execution_count": 53,
     "metadata": {},
     "output_type": "execute_result"
    }
   ],
   "source": [
    "array1.T"
   ]
  },
  {
   "cell_type": "code",
   "execution_count": 55,
   "metadata": {},
   "outputs": [
    {
     "data": {
      "text/plain": [
       "40"
      ]
     },
     "execution_count": 55,
     "metadata": {},
     "output_type": "execute_result"
    }
   ],
   "source": [
    "s=array1[1]+array2[6]\n",
    "s"
   ]
  },
  {
   "cell_type": "code",
   "execution_count": 56,
   "metadata": {},
   "outputs": [],
   "source": [
    "arrays=[array1,array2]"
   ]
  },
  {
   "cell_type": "code",
   "execution_count": 57,
   "metadata": {},
   "outputs": [
    {
     "name": "stdout",
     "output_type": "stream",
     "text": [
      "1 [10 20 30 40]\n",
      "2 [100  30   5   1  40 100  20 130 155 170]\n"
     ]
    }
   ],
   "source": [
    "for index,array in enumerate(arrays,start=1):\n",
    "    print(index,array)"
   ]
  },
  {
   "cell_type": "code",
   "execution_count": 58,
   "metadata": {},
   "outputs": [
    {
     "name": "stdout",
     "output_type": "stream",
     "text": [
      "Array 1\n",
      "First element: 10\n",
      "Third element: 30\n",
      "Last element: 40\n",
      "Inverted Array: [40 30 20 10]\n",
      "Array 2\n",
      "First element: 100\n",
      "Third element: 5\n",
      "Last element: 170\n",
      "Inverted Array: [170 155 130  20 100  40   1   5  30 100]\n"
     ]
    }
   ],
   "source": [
    "for index, array in enumerate(arrays, start = 1):\n",
    "    print(f'Array {index}')\n",
    "    print(f'First element: {array[0]}')\n",
    "    print(f'Third element: {array[2]}')\n",
    "    print(f'Last element: {array[-1]}')\n",
    "    print(f'Inverted Array: {array[::-1]}')"
   ]
  },
  {
   "cell_type": "code",
   "execution_count": 59,
   "metadata": {},
   "outputs": [],
   "source": [
    "ar = np.array([[-1, 33, 44, 9, 1],[11, 1, 0, 90, 44]])"
   ]
  },
  {
   "cell_type": "code",
   "execution_count": 60,
   "metadata": {},
   "outputs": [
    {
     "data": {
      "text/plain": [
       "9"
      ]
     },
     "execution_count": 60,
     "metadata": {},
     "output_type": "execute_result"
    }
   ],
   "source": [
    "ar[0][3]"
   ]
  },
  {
   "cell_type": "code",
   "execution_count": 61,
   "metadata": {},
   "outputs": [
    {
     "data": {
      "text/plain": [
       "90"
      ]
     },
     "execution_count": 61,
     "metadata": {},
     "output_type": "execute_result"
    }
   ],
   "source": [
    "ar[1][3]"
   ]
  },
  {
   "cell_type": "code",
   "execution_count": 62,
   "metadata": {},
   "outputs": [],
   "source": [
    "ar = np.array([\n",
    "    [[1, 1, 5, 1],\n",
    "    [1, 1, 1, 9]],\n",
    "    [[1, 3, 1, 1],\n",
    "    [1, 1, 21, 1]]\n",
    "                ])"
   ]
  },
  {
   "cell_type": "code",
   "execution_count": 74,
   "metadata": {},
   "outputs": [
    {
     "data": {
      "text/plain": [
       "5"
      ]
     },
     "execution_count": 74,
     "metadata": {},
     "output_type": "execute_result"
    }
   ],
   "source": [
    "ar[0][0][2]"
   ]
  },
  {
   "cell_type": "code",
   "execution_count": 75,
   "metadata": {},
   "outputs": [
    {
     "data": {
      "text/plain": [
       "9"
      ]
     },
     "execution_count": 75,
     "metadata": {},
     "output_type": "execute_result"
    }
   ],
   "source": [
    "ar[0][1][3]"
   ]
  },
  {
   "cell_type": "code",
   "execution_count": 77,
   "metadata": {},
   "outputs": [
    {
     "data": {
      "text/plain": [
       "array([3, 4, 5, 6, 7])"
      ]
     },
     "execution_count": 77,
     "metadata": {},
     "output_type": "execute_result"
    }
   ],
   "source": [
    "ar = np.array([1, 2, 3, 4, 5, 6, 7, 8, 9, 10])\n",
    "ar[2:7]"
   ]
  },
  {
   "cell_type": "code",
   "execution_count": 86,
   "metadata": {},
   "outputs": [
    {
     "data": {
      "text/plain": [
       "array([[1, 2, 3],\n",
       "       [1, 0, 1]])"
      ]
     },
     "execution_count": 86,
     "metadata": {},
     "output_type": "execute_result"
    }
   ],
   "source": [
    "np.array([[1,2,3],[1,0,1]])"
   ]
  },
  {
   "cell_type": "code",
   "execution_count": 87,
   "metadata": {},
   "outputs": [
    {
     "data": {
      "text/plain": [
       "array([[1, 2, 3],\n",
       "       [1, 0, 1],\n",
       "       [1, 0, 1]])"
      ]
     },
     "execution_count": 87,
     "metadata": {},
     "output_type": "execute_result"
    }
   ],
   "source": [
    "np.array([[1,2,3],[1,0,1],[1,0,1]])"
   ]
  },
  {
   "cell_type": "code",
   "execution_count": 92,
   "metadata": {},
   "outputs": [
    {
     "data": {
      "text/plain": [
       "array([[1],\n",
       "       [2],\n",
       "       [3]])"
      ]
     },
     "execution_count": 92,
     "metadata": {},
     "output_type": "execute_result"
    }
   ],
   "source": [
    "np.array([1,2,3]).reshape(3,1)"
   ]
  },
  {
   "cell_type": "code",
   "execution_count": 93,
   "metadata": {},
   "outputs": [
    {
     "data": {
      "text/plain": [
       "array([[1],\n",
       "       [2],\n",
       "       [3],\n",
       "       [4],\n",
       "       [5],\n",
       "       [6]])"
      ]
     },
     "execution_count": 93,
     "metadata": {},
     "output_type": "execute_result"
    }
   ],
   "source": [
    "np.array([1,2,3,4,5,6]).reshape(6,1)"
   ]
  },
  {
   "cell_type": "code",
   "execution_count": 94,
   "metadata": {},
   "outputs": [
    {
     "data": {
      "text/plain": [
       "array([1, 2, 3])"
      ]
     },
     "execution_count": 94,
     "metadata": {},
     "output_type": "execute_result"
    }
   ],
   "source": [
    "np.array([1,2,3])"
   ]
  },
  {
   "cell_type": "code",
   "execution_count": 98,
   "metadata": {},
   "outputs": [
    {
     "data": {
      "text/plain": [
       "array([[1, 1],\n",
       "       [1, 1]])"
      ]
     },
     "execution_count": 98,
     "metadata": {},
     "output_type": "execute_result"
    }
   ],
   "source": [
    "np.ones(4,dtype=int).reshape(2,2)"
   ]
  },
  {
   "cell_type": "code",
   "execution_count": 101,
   "metadata": {},
   "outputs": [
    {
     "data": {
      "text/plain": [
       "array([[0., 0., 0., 0., 0.],\n",
       "       [0., 0., 0., 0., 0.],\n",
       "       [0., 0., 0., 0., 0.],\n",
       "       [0., 0., 0., 0., 0.],\n",
       "       [0., 0., 0., 0., 0.]])"
      ]
     },
     "execution_count": 101,
     "metadata": {},
     "output_type": "execute_result"
    }
   ],
   "source": [
    "np.zeros(25).reshape(5,5)"
   ]
  },
  {
   "cell_type": "code",
   "execution_count": 103,
   "metadata": {},
   "outputs": [
    {
     "data": {
      "text/plain": [
       "array([[1., 0., 0., 0., 0.],\n",
       "       [0., 1., 0., 0., 0.],\n",
       "       [0., 0., 1., 0., 0.],\n",
       "       [0., 0., 0., 1., 0.],\n",
       "       [0., 0., 0., 0., 1.]])"
      ]
     },
     "execution_count": 103,
     "metadata": {},
     "output_type": "execute_result"
    }
   ],
   "source": [
    "np.eye(5)"
   ]
  },
  {
   "cell_type": "code",
   "execution_count": 104,
   "metadata": {},
   "outputs": [
    {
     "data": {
      "text/plain": [
       "array([[1., 1., 1., 0., 0.],\n",
       "       [1., 1., 1., 1., 0.],\n",
       "       [1., 1., 1., 1., 1.]])"
      ]
     },
     "execution_count": 104,
     "metadata": {},
     "output_type": "execute_result"
    }
   ],
   "source": [
    "np.tri(3,5,2)"
   ]
  },
  {
   "cell_type": "code",
   "execution_count": 105,
   "metadata": {},
   "outputs": [],
   "source": [
    "A = np.triu(np.arange(1,10).reshape(3,3),k=0)\n",
    "B = np.tril(np.arange(1,10).reshape(3,3),k=0)\n",
    "C = np.triu(np.arange(100,125).reshape(5,5))"
   ]
  },
  {
   "cell_type": "code",
   "execution_count": 106,
   "metadata": {},
   "outputs": [
    {
     "data": {
      "text/plain": [
       "array([[1, 2, 3],\n",
       "       [0, 5, 6],\n",
       "       [0, 0, 9]])"
      ]
     },
     "execution_count": 106,
     "metadata": {},
     "output_type": "execute_result"
    }
   ],
   "source": [
    "A"
   ]
  },
  {
   "cell_type": "code",
   "execution_count": 107,
   "metadata": {},
   "outputs": [
    {
     "data": {
      "text/plain": [
       "array([[1, 0, 0],\n",
       "       [4, 5, 0],\n",
       "       [7, 8, 9]])"
      ]
     },
     "execution_count": 107,
     "metadata": {},
     "output_type": "execute_result"
    }
   ],
   "source": [
    "B"
   ]
  },
  {
   "cell_type": "code",
   "execution_count": 108,
   "metadata": {},
   "outputs": [
    {
     "data": {
      "text/plain": [
       "array([[100, 101, 102, 103, 104],\n",
       "       [  0, 106, 107, 108, 109],\n",
       "       [  0,   0, 112, 113, 114],\n",
       "       [  0,   0,   0, 118, 119],\n",
       "       [  0,   0,   0,   0, 124]])"
      ]
     },
     "execution_count": 108,
     "metadata": {},
     "output_type": "execute_result"
    }
   ],
   "source": [
    "C"
   ]
  },
  {
   "cell_type": "code",
   "execution_count": 2,
   "metadata": {},
   "outputs": [
    {
     "data": {
      "text/plain": [
       "array([[0, 1, 2],\n",
       "       [3, 4, 5],\n",
       "       [6, 7, 8]])"
      ]
     },
     "execution_count": 2,
     "metadata": {},
     "output_type": "execute_result"
    }
   ],
   "source": [
    "x = np.arange(9).reshape((3,3))\n",
    "x"
   ]
  },
  {
   "cell_type": "code",
   "execution_count": 3,
   "metadata": {},
   "outputs": [
    {
     "data": {
      "text/plain": [
       "array([0, 4, 8])"
      ]
     },
     "execution_count": 3,
     "metadata": {},
     "output_type": "execute_result"
    }
   ],
   "source": [
    "np.diag(x)"
   ]
  },
  {
   "cell_type": "code",
   "execution_count": 4,
   "metadata": {},
   "outputs": [],
   "source": [
    "A = np.diag([7,1,-1])\n",
    "B = np.diag([3]*4)\n",
    "C = np.diag(range(-5,0))"
   ]
  },
  {
   "cell_type": "code",
   "execution_count": 5,
   "metadata": {},
   "outputs": [
    {
     "data": {
      "text/plain": [
       "array([[ 7,  0,  0],\n",
       "       [ 0,  1,  0],\n",
       "       [ 0,  0, -1]])"
      ]
     },
     "execution_count": 5,
     "metadata": {},
     "output_type": "execute_result"
    }
   ],
   "source": [
    "A"
   ]
  },
  {
   "cell_type": "code",
   "execution_count": 6,
   "metadata": {},
   "outputs": [
    {
     "data": {
      "text/plain": [
       "array([[1, 0, 0],\n",
       "       [0, 1, 0],\n",
       "       [0, 0, 1]])"
      ]
     },
     "execution_count": 6,
     "metadata": {},
     "output_type": "execute_result"
    }
   ],
   "source": [
    "np.diag([1,1,1])"
   ]
  },
  {
   "cell_type": "code",
   "execution_count": 7,
   "metadata": {},
   "outputs": [],
   "source": [
    "A=np.array([10,11,5,1,-2,4]).reshape(3,2)"
   ]
  },
  {
   "cell_type": "code",
   "execution_count": 8,
   "metadata": {},
   "outputs": [
    {
     "data": {
      "text/plain": [
       "array([[10, 11],\n",
       "       [ 5,  1],\n",
       "       [-2,  4]])"
      ]
     },
     "execution_count": 8,
     "metadata": {},
     "output_type": "execute_result"
    }
   ],
   "source": [
    "A"
   ]
  },
  {
   "cell_type": "code",
   "execution_count": 11,
   "metadata": {},
   "outputs": [],
   "source": [
    "b=np.array([1,25,3,4,0,-10]).reshape(3,2)"
   ]
  },
  {
   "cell_type": "code",
   "execution_count": 12,
   "metadata": {},
   "outputs": [
    {
     "data": {
      "text/plain": [
       "array([[  1,  25],\n",
       "       [  3,   4],\n",
       "       [  0, -10]])"
      ]
     },
     "execution_count": 12,
     "metadata": {},
     "output_type": "execute_result"
    }
   ],
   "source": [
    "b"
   ]
  },
  {
   "cell_type": "code",
   "execution_count": 14,
   "metadata": {},
   "outputs": [
    {
     "data": {
      "text/plain": [
       "array([[11, 36],\n",
       "       [ 8,  5],\n",
       "       [-2, -6]])"
      ]
     },
     "execution_count": 14,
     "metadata": {},
     "output_type": "execute_result"
    }
   ],
   "source": [
    "A+b"
   ]
  },
  {
   "cell_type": "code",
   "execution_count": 15,
   "metadata": {},
   "outputs": [],
   "source": [
    "c=np.array([7,3,6,1,0,0]).reshape(3,2)"
   ]
  },
  {
   "cell_type": "code",
   "execution_count": 16,
   "metadata": {},
   "outputs": [
    {
     "data": {
      "text/plain": [
       "array([[7, 3],\n",
       "       [6, 1],\n",
       "       [0, 0]])"
      ]
     },
     "execution_count": 16,
     "metadata": {},
     "output_type": "execute_result"
    }
   ],
   "source": [
    "c"
   ]
  },
  {
   "cell_type": "code",
   "execution_count": 20,
   "metadata": {},
   "outputs": [
    {
     "data": {
      "text/plain": [
       "array([[ True,  True],\n",
       "       [ True,  True],\n",
       "       [ True,  True]])"
      ]
     },
     "execution_count": 20,
     "metadata": {},
     "output_type": "execute_result"
    }
   ],
   "source": [
    "A+b == b+A"
   ]
  },
  {
   "cell_type": "code",
   "execution_count": 24,
   "metadata": {},
   "outputs": [
    {
     "data": {
      "text/plain": [
       "array([[ True,  True],\n",
       "       [ True,  True],\n",
       "       [ True,  True]])"
      ]
     },
     "execution_count": 24,
     "metadata": {},
     "output_type": "execute_result"
    }
   ],
   "source": [
    "((A+(b+c))==((A+b)+c))"
   ]
  },
  {
   "cell_type": "code",
   "execution_count": 26,
   "metadata": {},
   "outputs": [
    {
     "data": {
      "text/plain": [
       "array([[ 1,  2,  3],\n",
       "       [ 2,  1, -1]])"
      ]
     },
     "execution_count": 26,
     "metadata": {},
     "output_type": "execute_result"
    }
   ],
   "source": [
    "A=np.array([1,2,3,2,1,-1]).reshape(2,3)\n",
    "A"
   ]
  },
  {
   "cell_type": "code",
   "execution_count": 27,
   "metadata": {},
   "outputs": [
    {
     "data": {
      "text/plain": [
       "array([[-2,  0,  1],\n",
       "       [ 3,  0,  1]])"
      ]
     },
     "execution_count": 27,
     "metadata": {},
     "output_type": "execute_result"
    }
   ],
   "source": [
    "B=np.array([-2,0,1,3,0,1]).reshape(2,3)\n",
    "B"
   ]
  },
  {
   "cell_type": "code",
   "execution_count": 37,
   "metadata": {},
   "outputs": [
    {
     "data": {
      "text/plain": [
       "array([[-1],\n",
       "       [ 2],\n",
       "       [ 4]])"
      ]
     },
     "execution_count": 37,
     "metadata": {},
     "output_type": "execute_result"
    }
   ],
   "source": [
    "Ci=np.array([-1,2,4]).reshape(3,1)\n",
    "Ci"
   ]
  },
  {
   "cell_type": "code",
   "execution_count": 32,
   "metadata": {},
   "outputs": [
    {
     "data": {
      "text/plain": [
       "array([2, 1])"
      ]
     },
     "execution_count": 32,
     "metadata": {},
     "output_type": "execute_result"
    }
   ],
   "source": [
    "D=np.array([2,1])\n",
    "D"
   ]
  },
  {
   "cell_type": "code",
   "execution_count": 33,
   "metadata": {},
   "outputs": [
    {
     "data": {
      "text/plain": [
       "array([[-1,  2,  4],\n",
       "       [ 5,  1,  0]])"
      ]
     },
     "execution_count": 33,
     "metadata": {},
     "output_type": "execute_result"
    }
   ],
   "source": [
    "A+B"
   ]
  },
  {
   "cell_type": "code",
   "execution_count": 42,
   "metadata": {},
   "outputs": [
    {
     "ename": "ValueError",
     "evalue": "operands could not be broadcast together with shapes (2,3) (3,1) ",
     "output_type": "error",
     "traceback": [
      "\u001b[1;31m---------------------------------------------------------------------------\u001b[0m",
      "\u001b[1;31mValueError\u001b[0m                                Traceback (most recent call last)",
      "\u001b[1;32m<ipython-input-42-612aa7812a87>\u001b[0m in \u001b[0;36m<module>\u001b[1;34m\u001b[0m\n\u001b[1;32m----> 1\u001b[1;33m \u001b[1;33m(\u001b[0m\u001b[0mA\u001b[0m\u001b[1;33m)\u001b[0m\u001b[1;33m*\u001b[0m\u001b[1;33m(\u001b[0m\u001b[0mCi\u001b[0m\u001b[1;33m)\u001b[0m\u001b[1;33m\u001b[0m\u001b[1;33m\u001b[0m\u001b[0m\n\u001b[0m",
      "\u001b[1;31mValueError\u001b[0m: operands could not be broadcast together with shapes (2,3) (3,1) "
     ]
    }
   ],
   "source": [
    "(A)*(Ci)"
   ]
  },
  {
   "cell_type": "code",
   "execution_count": 40,
   "metadata": {},
   "outputs": [
    {
     "ename": "ValueError",
     "evalue": "operands could not be broadcast together with shapes (2,3) (3,1) ",
     "output_type": "error",
     "traceback": [
      "\u001b[1;31m---------------------------------------------------------------------------\u001b[0m",
      "\u001b[1;31mValueError\u001b[0m                                Traceback (most recent call last)",
      "\u001b[1;32m<ipython-input-40-473c4e4467e9>\u001b[0m in \u001b[0;36m<module>\u001b[1;34m\u001b[0m\n\u001b[1;32m----> 1\u001b[1;33m \u001b[0mB\u001b[0m\u001b[1;33m*\u001b[0m\u001b[0mCi\u001b[0m\u001b[1;33m\u001b[0m\u001b[1;33m\u001b[0m\u001b[0m\n\u001b[0m",
      "\u001b[1;31mValueError\u001b[0m: operands could not be broadcast together with shapes (2,3) (3,1) "
     ]
    }
   ],
   "source": [
    "B*Ci"
   ]
  },
  {
   "cell_type": "code",
   "execution_count": 44,
   "metadata": {},
   "outputs": [
    {
     "data": {
      "text/plain": [
       "array([[-1, -2, -3],\n",
       "       [-2, -1,  1]])"
      ]
     },
     "execution_count": 44,
     "metadata": {},
     "output_type": "execute_result"
    }
   ],
   "source": [
    "-A"
   ]
  },
  {
   "cell_type": "code",
   "execution_count": 45,
   "metadata": {},
   "outputs": [
    {
     "data": {
      "text/plain": [
       "array([-2, -1])"
      ]
     },
     "execution_count": 45,
     "metadata": {},
     "output_type": "execute_result"
    }
   ],
   "source": [
    "-D"
   ]
  },
  {
   "cell_type": "code",
   "execution_count": 50,
   "metadata": {},
   "outputs": [
    {
     "ename": "TypeError",
     "evalue": "'int' object is not callable",
     "output_type": "error",
     "traceback": [
      "\u001b[1;31m---------------------------------------------------------------------------\u001b[0m",
      "\u001b[1;31mTypeError\u001b[0m                                 Traceback (most recent call last)",
      "\u001b[1;32m<ipython-input-50-17f2f330844d>\u001b[0m in \u001b[0;36m<module>\u001b[1;34m\u001b[0m\n\u001b[1;32m----> 1\u001b[1;33m \u001b[1;33m(\u001b[0m\u001b[1;33m(\u001b[0m\u001b[1;36m2\u001b[0m\u001b[1;33m(\u001b[0m\u001b[0mA\u001b[0m\u001b[1;33m)\u001b[0m\u001b[1;33m)\u001b[0m\u001b[1;33m+\u001b[0m\u001b[1;33m(\u001b[0m\u001b[1;36m3\u001b[0m\u001b[1;33m(\u001b[0m\u001b[0mB\u001b[0m\u001b[1;33m)\u001b[0m\u001b[1;33m)\u001b[0m\u001b[1;33m)\u001b[0m\u001b[1;33m\u001b[0m\u001b[1;33m\u001b[0m\u001b[0m\n\u001b[0m",
      "\u001b[1;31mTypeError\u001b[0m: 'int' object is not callable"
     ]
    }
   ],
   "source": [
    "((2(A))+(3(B)))"
   ]
  },
  {
   "cell_type": "code",
   "execution_count": 51,
   "metadata": {},
   "outputs": [
    {
     "data": {
      "text/plain": [
       "array([[15],\n",
       "       [-4]])"
      ]
     },
     "execution_count": 51,
     "metadata": {},
     "output_type": "execute_result"
    }
   ],
   "source": [
    "A.dot(Ci)"
   ]
  },
  {
   "cell_type": "code",
   "execution_count": 52,
   "metadata": {},
   "outputs": [
    {
     "data": {
      "text/plain": [
       "array([[6],\n",
       "       [1]])"
      ]
     },
     "execution_count": 52,
     "metadata": {},
     "output_type": "execute_result"
    }
   ],
   "source": [
    "B.dot(Ci)"
   ]
  },
  {
   "cell_type": "code",
   "execution_count": 53,
   "metadata": {},
   "outputs": [
    {
     "data": {
      "text/plain": [
       "array([[-4,  4,  9],\n",
       "       [13,  2,  1]])"
      ]
     },
     "execution_count": 53,
     "metadata": {},
     "output_type": "execute_result"
    }
   ],
   "source": [
    "2*A+3*B"
   ]
  },
  {
   "cell_type": "code",
   "execution_count": 55,
   "metadata": {},
   "outputs": [
    {
     "data": {
      "text/plain": [
       "array([[ 1, -3,  2],\n",
       "       [ 2,  1, -3],\n",
       "       [ 4, -3, -1]])"
      ]
     },
     "execution_count": 55,
     "metadata": {},
     "output_type": "execute_result"
    }
   ],
   "source": [
    "A=np.array([1,-3,2,2,1,-3,4,-3,-1]).reshape(3,3)\n",
    "A"
   ]
  },
  {
   "cell_type": "code",
   "execution_count": 58,
   "metadata": {},
   "outputs": [
    {
     "data": {
      "text/plain": [
       "array([[ 1,  4,  1,  0],\n",
       "       [ 2,  1,  1,  1],\n",
       "       [ 1, -2,  1,  2]])"
      ]
     },
     "execution_count": 58,
     "metadata": {},
     "output_type": "execute_result"
    }
   ],
   "source": [
    "B=np.array([1,4,1,0,2,1,1,1,1,-2,1,2]).reshape(3,4)\n",
    "B"
   ]
  },
  {
   "cell_type": "code",
   "execution_count": 60,
   "metadata": {},
   "outputs": [
    {
     "data": {
      "text/plain": [
       "array([[ 2,  1, -1, -2],\n",
       "       [ 3, -2, -1, -1],\n",
       "       [ 2, -5, -1,  0]])"
      ]
     },
     "execution_count": 60,
     "metadata": {},
     "output_type": "execute_result"
    }
   ],
   "source": [
    "C=np.array([2,1,-1,-2,3,-2,-1,-1,2,-5,-1,0]).reshape(3,4)\n",
    "C"
   ]
  },
  {
   "cell_type": "code",
   "execution_count": 67,
   "metadata": {},
   "outputs": [
    {
     "data": {
      "text/plain": [
       "array([[ True,  True,  True,  True],\n",
       "       [ True,  True,  True,  True],\n",
       "       [ True,  True,  True,  True]])"
      ]
     },
     "execution_count": 67,
     "metadata": {},
     "output_type": "execute_result"
    }
   ],
   "source": [
    "(A.dot(B)==A.dot(C))"
   ]
  },
  {
   "cell_type": "code",
   "execution_count": 68,
   "metadata": {},
   "outputs": [],
   "source": [
    "A=np.array([1,-2,7,4,20,10]).reshape(3,2)"
   ]
  },
  {
   "cell_type": "code",
   "execution_count": 69,
   "metadata": {},
   "outputs": [
    {
     "data": {
      "text/plain": [
       "array([[ 1, -2],\n",
       "       [ 7,  4],\n",
       "       [20, 10]])"
      ]
     },
     "execution_count": 69,
     "metadata": {},
     "output_type": "execute_result"
    }
   ],
   "source": [
    "A"
   ]
  },
  {
   "cell_type": "code",
   "execution_count": 70,
   "metadata": {},
   "outputs": [
    {
     "data": {
      "text/plain": [
       "array([[ 1,  7, 20],\n",
       "       [-2,  4, 10]])"
      ]
     },
     "execution_count": 70,
     "metadata": {},
     "output_type": "execute_result"
    }
   ],
   "source": [
    "A.T"
   ]
  },
  {
   "cell_type": "code",
   "execution_count": 71,
   "metadata": {},
   "outputs": [],
   "source": [
    "A=np.array([5])"
   ]
  },
  {
   "cell_type": "code",
   "execution_count": 72,
   "metadata": {},
   "outputs": [
    {
     "data": {
      "text/plain": [
       "array([5])"
      ]
     },
     "execution_count": 72,
     "metadata": {},
     "output_type": "execute_result"
    }
   ],
   "source": [
    "A"
   ]
  },
  {
   "cell_type": "code",
   "execution_count": 74,
   "metadata": {},
   "outputs": [
    {
     "ename": "LinAlgError",
     "evalue": "1-dimensional array given. Array must be at least two-dimensional",
     "output_type": "error",
     "traceback": [
      "\u001b[1;31m---------------------------------------------------------------------------\u001b[0m",
      "\u001b[1;31mLinAlgError\u001b[0m                               Traceback (most recent call last)",
      "\u001b[1;32m<ipython-input-74-d6ff28f11825>\u001b[0m in \u001b[0;36m<module>\u001b[1;34m\u001b[0m\n\u001b[1;32m----> 1\u001b[1;33m \u001b[0mnp\u001b[0m\u001b[1;33m.\u001b[0m\u001b[0mlinalg\u001b[0m\u001b[1;33m.\u001b[0m\u001b[0mdet\u001b[0m\u001b[1;33m(\u001b[0m\u001b[0mA\u001b[0m\u001b[1;33m)\u001b[0m\u001b[1;33m\u001b[0m\u001b[1;33m\u001b[0m\u001b[0m\n\u001b[0m",
      "\u001b[1;32m<__array_function__ internals>\u001b[0m in \u001b[0;36mdet\u001b[1;34m(*args, **kwargs)\u001b[0m\n",
      "\u001b[1;32m~\\anaconda3\\lib\\site-packages\\numpy\\linalg\\linalg.py\u001b[0m in \u001b[0;36mdet\u001b[1;34m(a)\u001b[0m\n\u001b[0;32m   2110\u001b[0m     \"\"\"\n\u001b[0;32m   2111\u001b[0m     \u001b[0ma\u001b[0m \u001b[1;33m=\u001b[0m \u001b[0masarray\u001b[0m\u001b[1;33m(\u001b[0m\u001b[0ma\u001b[0m\u001b[1;33m)\u001b[0m\u001b[1;33m\u001b[0m\u001b[1;33m\u001b[0m\u001b[0m\n\u001b[1;32m-> 2112\u001b[1;33m     \u001b[0m_assert_stacked_2d\u001b[0m\u001b[1;33m(\u001b[0m\u001b[0ma\u001b[0m\u001b[1;33m)\u001b[0m\u001b[1;33m\u001b[0m\u001b[1;33m\u001b[0m\u001b[0m\n\u001b[0m\u001b[0;32m   2113\u001b[0m     \u001b[0m_assert_stacked_square\u001b[0m\u001b[1;33m(\u001b[0m\u001b[0ma\u001b[0m\u001b[1;33m)\u001b[0m\u001b[1;33m\u001b[0m\u001b[1;33m\u001b[0m\u001b[0m\n\u001b[0;32m   2114\u001b[0m     \u001b[0mt\u001b[0m\u001b[1;33m,\u001b[0m \u001b[0mresult_t\u001b[0m \u001b[1;33m=\u001b[0m \u001b[0m_commonType\u001b[0m\u001b[1;33m(\u001b[0m\u001b[0ma\u001b[0m\u001b[1;33m)\u001b[0m\u001b[1;33m\u001b[0m\u001b[1;33m\u001b[0m\u001b[0m\n",
      "\u001b[1;32m~\\anaconda3\\lib\\site-packages\\numpy\\linalg\\linalg.py\u001b[0m in \u001b[0;36m_assert_stacked_2d\u001b[1;34m(*arrays)\u001b[0m\n\u001b[0;32m    205\u001b[0m         \u001b[1;32mif\u001b[0m \u001b[0ma\u001b[0m\u001b[1;33m.\u001b[0m\u001b[0mndim\u001b[0m \u001b[1;33m<\u001b[0m \u001b[1;36m2\u001b[0m\u001b[1;33m:\u001b[0m\u001b[1;33m\u001b[0m\u001b[1;33m\u001b[0m\u001b[0m\n\u001b[0;32m    206\u001b[0m             raise LinAlgError('%d-dimensional array given. Array must be '\n\u001b[1;32m--> 207\u001b[1;33m                     'at least two-dimensional' % a.ndim)\n\u001b[0m\u001b[0;32m    208\u001b[0m \u001b[1;33m\u001b[0m\u001b[0m\n\u001b[0;32m    209\u001b[0m \u001b[1;32mdef\u001b[0m \u001b[0m_assert_stacked_square\u001b[0m\u001b[1;33m(\u001b[0m\u001b[1;33m*\u001b[0m\u001b[0marrays\u001b[0m\u001b[1;33m)\u001b[0m\u001b[1;33m:\u001b[0m\u001b[1;33m\u001b[0m\u001b[1;33m\u001b[0m\u001b[0m\n",
      "\u001b[1;31mLinAlgError\u001b[0m: 1-dimensional array given. Array must be at least two-dimensional"
     ]
    }
   ],
   "source": [
    "np.linalg.det(A)"
   ]
  },
  {
   "cell_type": "code",
   "execution_count": 75,
   "metadata": {},
   "outputs": [],
   "source": [
    "B=np.array([1,2,3,4]).reshape(2,2)"
   ]
  },
  {
   "cell_type": "code",
   "execution_count": 78,
   "metadata": {},
   "outputs": [
    {
     "data": {
      "text/plain": [
       "-2.0000000000000004"
      ]
     },
     "execution_count": 78,
     "metadata": {},
     "output_type": "execute_result"
    }
   ],
   "source": [
    "np.linalg.det(B)"
   ]
  },
  {
   "cell_type": "code",
   "execution_count": 79,
   "metadata": {},
   "outputs": [],
   "source": [
    "A = np.array([[3,1,4],[10,7,5],[1,4,4]])\n",
    "B = np.eye(3)\n",
    "C = np.diag([5,10,2])\n",
    "D = np.diag([3,7,11,2])\n",
    "E = np.array([[5,0,13,12],[1,-1,25,7],[6,2,1,20],[11,4,0,-9]])"
   ]
  },
  {
   "cell_type": "code",
   "execution_count": 83,
   "metadata": {},
   "outputs": [
    {
     "data": {
      "text/plain": [
       "122.00000000000003"
      ]
     },
     "execution_count": 83,
     "metadata": {},
     "output_type": "execute_result"
    }
   ],
   "source": [
    "np.linalg.det(A)+np.linalg.det(B).round()"
   ]
  },
  {
   "cell_type": "code",
   "execution_count": 84,
   "metadata": {},
   "outputs": [
    {
     "data": {
      "text/plain": [
       "163.00000000000014"
      ]
     },
     "execution_count": 84,
     "metadata": {},
     "output_type": "execute_result"
    }
   ],
   "source": [
    "np.linalg.det(A+B)"
   ]
  },
  {
   "cell_type": "code",
   "execution_count": 85,
   "metadata": {},
   "outputs": [
    {
     "data": {
      "text/plain": [
       "array([[1, 2],\n",
       "       [3, 4]])"
      ]
     },
     "execution_count": 85,
     "metadata": {},
     "output_type": "execute_result"
    }
   ],
   "source": [
    "A=np.array([1,2,3,4]).reshape(2,2)\n",
    "A"
   ]
  },
  {
   "cell_type": "code",
   "execution_count": 86,
   "metadata": {},
   "outputs": [
    {
     "data": {
      "text/plain": [
       "array([[1, 3],\n",
       "       [2, 4]])"
      ]
     },
     "execution_count": 86,
     "metadata": {},
     "output_type": "execute_result"
    }
   ],
   "source": [
    "A.T"
   ]
  },
  {
   "cell_type": "code",
   "execution_count": 87,
   "metadata": {},
   "outputs": [],
   "source": [
    "A_inverse = np.linalg.inv(A)"
   ]
  },
  {
   "cell_type": "code",
   "execution_count": 88,
   "metadata": {},
   "outputs": [
    {
     "data": {
      "text/plain": [
       "array([[-2. ,  1. ],\n",
       "       [ 1.5, -0.5]])"
      ]
     },
     "execution_count": 88,
     "metadata": {},
     "output_type": "execute_result"
    }
   ],
   "source": [
    "A_inverse"
   ]
  },
  {
   "cell_type": "code",
   "execution_count": 89,
   "metadata": {},
   "outputs": [],
   "source": [
    "A = np.array([[1,2],[3,4]])\n",
    "B = np.array([[-1,3],[5,4]])\n",
    "A_inverse = np.linalg.inv(A)\n",
    "B_inverse = np.linalg.inv(B)"
   ]
  },
  {
   "cell_type": "code",
   "execution_count": 90,
   "metadata": {},
   "outputs": [
    {
     "data": {
      "text/plain": [
       "array([[-2. ,  1. ],\n",
       "       [ 1.5, -0.5]])"
      ]
     },
     "execution_count": 90,
     "metadata": {},
     "output_type": "execute_result"
    }
   ],
   "source": [
    "A_inverse"
   ]
  },
  {
   "cell_type": "code",
   "execution_count": 91,
   "metadata": {},
   "outputs": [
    {
     "data": {
      "text/plain": [
       "array([[-0.21052632,  0.15789474],\n",
       "       [ 0.26315789,  0.05263158]])"
      ]
     },
     "execution_count": 91,
     "metadata": {},
     "output_type": "execute_result"
    }
   ],
   "source": [
    "B_inverse"
   ]
  },
  {
   "cell_type": "code",
   "execution_count": 5,
   "metadata": {},
   "outputs": [],
   "source": [
    "A=np.array([1,2,3,4]).reshape(2,2)"
   ]
  },
  {
   "cell_type": "code",
   "execution_count": 6,
   "metadata": {},
   "outputs": [
    {
     "data": {
      "text/plain": [
       "array([[1, 2],\n",
       "       [3, 4]])"
      ]
     },
     "execution_count": 6,
     "metadata": {},
     "output_type": "execute_result"
    }
   ],
   "source": [
    "A"
   ]
  },
  {
   "cell_type": "code",
   "execution_count": 7,
   "metadata": {},
   "outputs": [
    {
     "data": {
      "text/plain": [
       "array([[-2. ,  1. ],\n",
       "       [ 1.5, -0.5]])"
      ]
     },
     "execution_count": 7,
     "metadata": {},
     "output_type": "execute_result"
    }
   ],
   "source": [
    "np.linalg.inv(A)"
   ]
  },
  {
   "cell_type": "code",
   "execution_count": 8,
   "metadata": {},
   "outputs": [],
   "source": [
    "A = np.array([[4,-1,2,-2],[3,-1,0,0],[2,3,1,0],[0,7,1,1]])"
   ]
  },
  {
   "cell_type": "code",
   "execution_count": 9,
   "metadata": {},
   "outputs": [
    {
     "data": {
      "text/plain": [
       "array([[ -1.,  -1.,   4.,  -2.],\n",
       "       [ -3.,  -4.,  12.,  -6.],\n",
       "       [ 11.,  14., -43.,  22.],\n",
       "       [ 10.,  14., -41.,  21.]])"
      ]
     },
     "execution_count": 9,
     "metadata": {},
     "output_type": "execute_result"
    }
   ],
   "source": [
    "np.linalg.inv(A)"
   ]
  },
  {
   "cell_type": "code",
   "execution_count": 10,
   "metadata": {},
   "outputs": [],
   "source": [
    "A = np.diag([7, 8, 11, 2, 4, 5, 1, 3])"
   ]
  },
  {
   "cell_type": "code",
   "execution_count": 11,
   "metadata": {},
   "outputs": [
    {
     "data": {
      "text/plain": [
       "array([[ 7,  0,  0,  0,  0,  0,  0,  0],\n",
       "       [ 0,  8,  0,  0,  0,  0,  0,  0],\n",
       "       [ 0,  0, 11,  0,  0,  0,  0,  0],\n",
       "       [ 0,  0,  0,  2,  0,  0,  0,  0],\n",
       "       [ 0,  0,  0,  0,  4,  0,  0,  0],\n",
       "       [ 0,  0,  0,  0,  0,  5,  0,  0],\n",
       "       [ 0,  0,  0,  0,  0,  0,  1,  0],\n",
       "       [ 0,  0,  0,  0,  0,  0,  0,  3]])"
      ]
     },
     "execution_count": 11,
     "metadata": {},
     "output_type": "execute_result"
    }
   ],
   "source": [
    "A"
   ]
  },
  {
   "cell_type": "code",
   "execution_count": 13,
   "metadata": {},
   "outputs": [
    {
     "data": {
      "text/plain": [
       "array([[0.14285714, 0.        , 0.        , 0.        , 0.        ,\n",
       "        0.        , 0.        , 0.        ],\n",
       "       [0.        , 0.125     , 0.        , 0.        , 0.        ,\n",
       "        0.        , 0.        , 0.        ],\n",
       "       [0.        , 0.        , 0.09090909, 0.        , 0.        ,\n",
       "        0.        , 0.        , 0.        ],\n",
       "       [0.        , 0.        , 0.        , 0.5       , 0.        ,\n",
       "        0.        , 0.        , 0.        ],\n",
       "       [0.        , 0.        , 0.        , 0.        , 0.25      ,\n",
       "        0.        , 0.        , 0.        ],\n",
       "       [0.        , 0.        , 0.        , 0.        , 0.        ,\n",
       "        0.2       , 0.        , 0.        ],\n",
       "       [0.        , 0.        , 0.        , 0.        , 0.        ,\n",
       "        0.        , 1.        , 0.        ],\n",
       "       [0.        , 0.        , 0.        , 0.        , 0.        ,\n",
       "        0.        , 0.        , 0.33333333]])"
      ]
     },
     "execution_count": 13,
     "metadata": {},
     "output_type": "execute_result"
    }
   ],
   "source": [
    "np.linalg.inv(A)"
   ]
  },
  {
   "cell_type": "code",
   "execution_count": 14,
   "metadata": {},
   "outputs": [],
   "source": [
    "A = np.array([[2,3],[1,-1]])\n",
    "B = np.array([[6],[8]])"
   ]
  },
  {
   "cell_type": "code",
   "execution_count": 16,
   "metadata": {},
   "outputs": [
    {
     "data": {
      "text/plain": [
       "array([[ 6.],\n",
       "       [-2.]])"
      ]
     },
     "execution_count": 16,
     "metadata": {},
     "output_type": "execute_result"
    }
   ],
   "source": [
    "np.linalg.solve(A,B)"
   ]
  },
  {
   "cell_type": "code",
   "execution_count": 17,
   "metadata": {},
   "outputs": [
    {
     "data": {
      "text/plain": [
       "array([[2.],\n",
       "       [3.]])"
      ]
     },
     "execution_count": 17,
     "metadata": {},
     "output_type": "execute_result"
    }
   ],
   "source": [
    "A = np.array([[3,1],[1,2]])\n",
    "B = np.array([[9],[8]])\n",
    "np.linalg.solve(A,B)"
   ]
  },
  {
   "cell_type": "code",
   "execution_count": 18,
   "metadata": {},
   "outputs": [
    {
     "data": {
      "text/plain": [
       "array([[2.],\n",
       "       [3.]])"
      ]
     },
     "execution_count": 18,
     "metadata": {},
     "output_type": "execute_result"
    }
   ],
   "source": [
    "A = np.array([[3,1],[1,2]])\n",
    "B = np.array([[9],[8]])\n",
    "solution = np.linalg.solve(A,B)\n",
    "solution"
   ]
  },
  {
   "cell_type": "code",
   "execution_count": 21,
   "metadata": {},
   "outputs": [],
   "source": [
    "A = np.array([[1,0,3],[2,-4,0],[3,-2,-5]])\n",
    "B = np.array([[-8],[-4],[26]])\n",
    "A\n",
    "solution = np.linalg.solve(A,B)"
   ]
  },
  {
   "cell_type": "code",
   "execution_count": 20,
   "metadata": {},
   "outputs": [
    {
     "data": {
      "text/plain": [
       "array([[ 4.],\n",
       "       [ 3.],\n",
       "       [-4.]])"
      ]
     },
     "execution_count": 20,
     "metadata": {},
     "output_type": "execute_result"
    }
   ],
   "source": [
    "solution"
   ]
  },
  {
   "cell_type": "code",
   "execution_count": 22,
   "metadata": {},
   "outputs": [
    {
     "data": {
      "text/plain": [
       "array([[ 1,  0,  3],\n",
       "       [ 2, -4,  0],\n",
       "       [ 3, -2, -5]])"
      ]
     },
     "execution_count": 22,
     "metadata": {},
     "output_type": "execute_result"
    }
   ],
   "source": [
    "A"
   ]
  },
  {
   "cell_type": "code",
   "execution_count": 23,
   "metadata": {},
   "outputs": [
    {
     "data": {
      "text/plain": [
       "array([[-8],\n",
       "       [-4],\n",
       "       [26]])"
      ]
     },
     "execution_count": 23,
     "metadata": {},
     "output_type": "execute_result"
    }
   ],
   "source": [
    "B"
   ]
  },
  {
   "cell_type": "code",
   "execution_count": 24,
   "metadata": {},
   "outputs": [
    {
     "data": {
      "text/plain": [
       "array([[ 1.],\n",
       "       [-1.],\n",
       "       [ 2.],\n",
       "       [-2.]])"
      ]
     },
     "execution_count": 24,
     "metadata": {},
     "output_type": "execute_result"
    }
   ],
   "source": [
    "A = np.array([[1, 1, 1, 1], [1, 1, 1,-1], [1, 1, -1, 1], [1, -1, 1, 1]])\n",
    "B = np.array([[0],[4],[-4],[2]])\n",
    "solution = np.linalg.solve(A,B)\n",
    "solution"
   ]
  },
  {
   "cell_type": "code",
   "execution_count": 25,
   "metadata": {},
   "outputs": [
    {
     "data": {
      "text/plain": [
       "array([ 2., -2.,  9.])"
      ]
     },
     "execution_count": 25,
     "metadata": {},
     "output_type": "execute_result"
    }
   ],
   "source": [
    "A = np.array([[3, 2, 0], [1, -1, 0], [0, 5, 1]])\n",
    "B = np.array([2, 4, -1])\n",
    "solution = np.linalg.solve(A,B)\n",
    "solution"
   ]
  },
  {
   "cell_type": "code",
   "execution_count": 26,
   "metadata": {},
   "outputs": [],
   "source": [
    "A = np.array([[1,2],[3,4]])\n",
    "B = np.array([[10,0,11],[-7,2,5],[45,78,4]])\n",
    "C = np.array([[4,2,11,14],[0,-9,1,3],[-3,4,5,8],[0,1,1,2]])"
   ]
  },
  {
   "cell_type": "code",
   "execution_count": 27,
   "metadata": {},
   "outputs": [
    {
     "data": {
      "text/plain": [
       "5"
      ]
     },
     "execution_count": 27,
     "metadata": {},
     "output_type": "execute_result"
    }
   ],
   "source": [
    "A.trace()"
   ]
  },
  {
   "cell_type": "code",
   "execution_count": 28,
   "metadata": {},
   "outputs": [
    {
     "data": {
      "text/plain": [
       "16"
      ]
     },
     "execution_count": 28,
     "metadata": {},
     "output_type": "execute_result"
    }
   ],
   "source": [
    "B.trace()"
   ]
  },
  {
   "cell_type": "code",
   "execution_count": 29,
   "metadata": {},
   "outputs": [
    {
     "data": {
      "text/plain": [
       "2"
      ]
     },
     "execution_count": 29,
     "metadata": {},
     "output_type": "execute_result"
    }
   ],
   "source": [
    "C.trace()"
   ]
  },
  {
   "cell_type": "code",
   "execution_count": 30,
   "metadata": {},
   "outputs": [],
   "source": [
    "A = np.array([[2,-1,3],[1,4,2],[1,-5,1],[4,16,8]])\n",
    "A_rank = np.linalg.matrix_rank(A)"
   ]
  },
  {
   "cell_type": "code",
   "execution_count": 31,
   "metadata": {},
   "outputs": [
    {
     "data": {
      "text/plain": [
       "2"
      ]
     },
     "execution_count": 31,
     "metadata": {},
     "output_type": "execute_result"
    }
   ],
   "source": [
    "A_rank"
   ]
  },
  {
   "cell_type": "code",
   "execution_count": 33,
   "metadata": {},
   "outputs": [
    {
     "data": {
      "text/plain": [
       "array([2., 4.])"
      ]
     },
     "execution_count": 33,
     "metadata": {},
     "output_type": "execute_result"
    }
   ],
   "source": [
    "A = np.array([[1,3],[-1,5]])\n",
    "eigenvalues = np.linalg.eigvals(A)\n",
    "eigenvalues"
   ]
  },
  {
   "cell_type": "code",
   "execution_count": 36,
   "metadata": {},
   "outputs": [
    {
     "data": {
      "text/plain": [
       "array([[-0.6551953 ,  0.74300368, -0.8080925 ,  0.88889578,  0.41640541],\n",
       "       [-0.46011843,  1.37079615, -1.26788714,  0.61400346,  1.2393862 ],\n",
       "       [ 2.29318295, -0.84848239,  1.27615997,  2.36659104, -0.40532846],\n",
       "       [-0.2631697 ,  2.01651387,  0.09388674,  1.05530511,  0.19286432]])"
      ]
     },
     "execution_count": 36,
     "metadata": {},
     "output_type": "execute_result"
    }
   ],
   "source": [
    "random=np.random.normal(size=(4,5))\n",
    "random"
   ]
  },
  {
   "cell_type": "code",
   "execution_count": 37,
   "metadata": {},
   "outputs": [
    {
     "data": {
      "text/plain": [
       "array([[-0.38517116, -1.03027519],\n",
       "       [ 0.4919153 ,  2.26184483]])"
      ]
     },
     "execution_count": 37,
     "metadata": {},
     "output_type": "execute_result"
    }
   ],
   "source": [
    "random=np.random.normal(size=(2,2))\n",
    "random"
   ]
  },
  {
   "cell_type": "code",
   "execution_count": 39,
   "metadata": {},
   "outputs": [
    {
     "data": {
      "text/plain": [
       "array([[-1.68334434e+00, -3.86172796e-01, -1.88098611e+00,\n",
       "         1.19274954e+00, -5.55946895e-01],\n",
       "       [-7.96406114e-01, -1.47843995e+00, -8.66388597e-01,\n",
       "        -2.74393547e-01,  4.44438895e-01],\n",
       "       [ 3.90874223e-01,  1.46193035e+00,  5.51819675e-01,\n",
       "         5.05682002e-01, -5.54169740e-01],\n",
       "       [ 4.64138004e-01, -7.35096869e-01, -8.72387033e-01,\n",
       "        -1.35983672e+00,  7.52311562e-01],\n",
       "       [-1.78122013e-01,  3.93575097e-01, -4.55409174e-01,\n",
       "        -7.40725497e-01, -2.68006925e+00],\n",
       "       [-2.83456126e-01, -2.42769429e+00,  2.27016149e+00,\n",
       "        -8.15964606e-01,  4.21801127e-01],\n",
       "       [-2.33438619e-01, -6.41559368e-01, -4.36419257e-01,\n",
       "        -1.22097501e+00, -1.81464550e-01],\n",
       "       [ 8.99131519e-01, -7.63360479e-01,  1.76452818e+00,\n",
       "        -4.29910613e-01, -1.79250562e+00],\n",
       "       [ 5.10412221e-01,  3.94826132e-01,  5.29213101e-01,\n",
       "         1.41623088e+00, -1.67238276e+00],\n",
       "       [ 1.05861582e+00, -2.33969039e-01, -1.18050725e+00,\n",
       "        -8.26796296e-02,  1.45802761e-01],\n",
       "       [ 3.01925605e-01, -5.12273879e-01, -8.00957311e-01,\n",
       "        -1.02729110e+00,  1.76020013e-01],\n",
       "       [ 1.23497611e+00, -3.26292537e+00, -1.74713644e+00,\n",
       "        -8.79983270e-01,  1.53327063e-01],\n",
       "       [-3.33962404e-01, -8.25313324e-01, -1.29057894e+00,\n",
       "        -6.12034067e-01,  4.95555014e-01],\n",
       "       [ 2.21911275e-01,  2.06649083e+00,  2.36258953e-01,\n",
       "        -2.51352515e-01,  1.67898313e-03],\n",
       "       [ 6.13436609e-01,  1.30291052e+00, -2.39509556e-01,\n",
       "         6.75420157e-01,  1.67523092e+00],\n",
       "       [-6.92004787e-01,  7.59377631e-02,  1.62098683e+00,\n",
       "         2.22795730e+00, -2.07493121e-01],\n",
       "       [-1.36520353e+00,  7.04811548e-01, -1.25025743e+00,\n",
       "        -7.65888410e-01, -1.50329608e-01],\n",
       "       [-6.54932388e-02,  1.11930451e+00, -4.73808681e-01,\n",
       "         1.00127746e+00,  1.04756316e+00],\n",
       "       [ 1.74646431e-01, -1.40181765e+00,  9.94280969e-01,\n",
       "         9.23105817e-01, -4.39364572e-01],\n",
       "       [-1.17619223e+00, -8.61195921e-01,  1.06989446e+00,\n",
       "        -6.22652793e-01,  1.35990130e+00]])"
      ]
     },
     "execution_count": 39,
     "metadata": {},
     "output_type": "execute_result"
    }
   ],
   "source": [
    "random=np.random.normal(size = (20,5))\n",
    "random"
   ]
  },
  {
   "cell_type": "code",
   "execution_count": 41,
   "metadata": {},
   "outputs": [
    {
     "data": {
      "text/plain": [
       "array([[ 8.58775292,  7.1213617 ,  8.35890245,  7.15373422,  8.82812378],\n",
       "       [11.6930803 ,  5.56207032,  6.38978103, 14.40820814,  9.4408587 ],\n",
       "       [ 8.06576416,  7.52744357,  8.08560933, 12.8705278 , 13.06284562],\n",
       "       [ 6.91887611, 12.38315629, 10.17867839, 13.35227879,  8.25008466],\n",
       "       [ 4.05693796,  9.59874746, 14.84719201, 10.22981547, 11.78803155],\n",
       "       [ 9.00128482, 10.11798696, 12.66440692,  7.6951499 ,  8.55099268],\n",
       "       [ 9.91674723,  5.47000584, 10.3083578 , 10.37077002,  9.87482232],\n",
       "       [ 7.760434  , 10.88604042, 11.56083849, 10.11858156,  9.69086357],\n",
       "       [ 9.46681839, 11.12367858, 12.09332858, 10.71550265,  7.96100725],\n",
       "       [ 8.02686772,  9.14271832, 12.04012983, 10.08044547, 11.98079173],\n",
       "       [10.34517031, 13.1229097 , 10.42178986,  9.52538638,  8.88484365],\n",
       "       [12.01476702, 14.28073989,  5.81581052, 12.17531548, 12.28415214],\n",
       "       [11.97934136, 14.56916855, 10.29457621,  6.39304356, 11.23336007],\n",
       "       [16.31148995, 13.15810979,  6.62099215, 14.1380373 ,  8.83590281],\n",
       "       [ 5.09819238,  8.57780478, 12.32992531,  7.24831391, 13.04687028],\n",
       "       [ 5.51385889, 13.69544118,  8.12789345,  9.23637925, 12.7580124 ],\n",
       "       [14.77783119, 15.20134411, 10.02625958,  6.81219641, 16.78143589],\n",
       "       [11.39385388,  8.31848885, 13.02351259, 13.13044817,  4.33023451],\n",
       "       [10.14945446, 13.28103693, 11.14180862, 10.07173287, 13.48338084],\n",
       "       [15.45976419, 11.91165088, 11.22009037, 18.21709152, 15.92631134]])"
      ]
     },
     "execution_count": 41,
     "metadata": {},
     "output_type": "execute_result"
    }
   ],
   "source": [
    "NRMS=np.random.normal(10,3,size=(20,5))\n",
    "NRMS"
   ]
  },
  {
   "cell_type": "code",
   "execution_count": 3,
   "metadata": {},
   "outputs": [],
   "source": [
    "import pandas as pd"
   ]
  },
  {
   "cell_type": "code",
   "execution_count": 52,
   "metadata": {},
   "outputs": [],
   "source": [
    "Df=pd.DataFrame(NRMS,columns = list('ABCDE'),\n",
    "                  index = range(1, NRMS.shape[0]+1))"
   ]
  },
  {
   "cell_type": "code",
   "execution_count": 53,
   "metadata": {},
   "outputs": [
    {
     "data": {
      "text/html": [
       "<div>\n",
       "<style scoped>\n",
       "    .dataframe tbody tr th:only-of-type {\n",
       "        vertical-align: middle;\n",
       "    }\n",
       "\n",
       "    .dataframe tbody tr th {\n",
       "        vertical-align: top;\n",
       "    }\n",
       "\n",
       "    .dataframe thead th {\n",
       "        text-align: right;\n",
       "    }\n",
       "</style>\n",
       "<table border=\"1\" class=\"dataframe\">\n",
       "  <thead>\n",
       "    <tr style=\"text-align: right;\">\n",
       "      <th></th>\n",
       "      <th>A</th>\n",
       "      <th>B</th>\n",
       "      <th>C</th>\n",
       "      <th>D</th>\n",
       "      <th>E</th>\n",
       "    </tr>\n",
       "  </thead>\n",
       "  <tbody>\n",
       "    <tr>\n",
       "      <th>1</th>\n",
       "      <td>8.587753</td>\n",
       "      <td>7.121362</td>\n",
       "      <td>8.358902</td>\n",
       "      <td>7.153734</td>\n",
       "      <td>8.828124</td>\n",
       "    </tr>\n",
       "    <tr>\n",
       "      <th>2</th>\n",
       "      <td>11.693080</td>\n",
       "      <td>5.562070</td>\n",
       "      <td>6.389781</td>\n",
       "      <td>14.408208</td>\n",
       "      <td>9.440859</td>\n",
       "    </tr>\n",
       "    <tr>\n",
       "      <th>3</th>\n",
       "      <td>8.065764</td>\n",
       "      <td>7.527444</td>\n",
       "      <td>8.085609</td>\n",
       "      <td>12.870528</td>\n",
       "      <td>13.062846</td>\n",
       "    </tr>\n",
       "    <tr>\n",
       "      <th>4</th>\n",
       "      <td>6.918876</td>\n",
       "      <td>12.383156</td>\n",
       "      <td>10.178678</td>\n",
       "      <td>13.352279</td>\n",
       "      <td>8.250085</td>\n",
       "    </tr>\n",
       "    <tr>\n",
       "      <th>5</th>\n",
       "      <td>4.056938</td>\n",
       "      <td>9.598747</td>\n",
       "      <td>14.847192</td>\n",
       "      <td>10.229815</td>\n",
       "      <td>11.788032</td>\n",
       "    </tr>\n",
       "    <tr>\n",
       "      <th>6</th>\n",
       "      <td>9.001285</td>\n",
       "      <td>10.117987</td>\n",
       "      <td>12.664407</td>\n",
       "      <td>7.695150</td>\n",
       "      <td>8.550993</td>\n",
       "    </tr>\n",
       "    <tr>\n",
       "      <th>7</th>\n",
       "      <td>9.916747</td>\n",
       "      <td>5.470006</td>\n",
       "      <td>10.308358</td>\n",
       "      <td>10.370770</td>\n",
       "      <td>9.874822</td>\n",
       "    </tr>\n",
       "    <tr>\n",
       "      <th>8</th>\n",
       "      <td>7.760434</td>\n",
       "      <td>10.886040</td>\n",
       "      <td>11.560838</td>\n",
       "      <td>10.118582</td>\n",
       "      <td>9.690864</td>\n",
       "    </tr>\n",
       "    <tr>\n",
       "      <th>9</th>\n",
       "      <td>9.466818</td>\n",
       "      <td>11.123679</td>\n",
       "      <td>12.093329</td>\n",
       "      <td>10.715503</td>\n",
       "      <td>7.961007</td>\n",
       "    </tr>\n",
       "    <tr>\n",
       "      <th>10</th>\n",
       "      <td>8.026868</td>\n",
       "      <td>9.142718</td>\n",
       "      <td>12.040130</td>\n",
       "      <td>10.080445</td>\n",
       "      <td>11.980792</td>\n",
       "    </tr>\n",
       "    <tr>\n",
       "      <th>11</th>\n",
       "      <td>10.345170</td>\n",
       "      <td>13.122910</td>\n",
       "      <td>10.421790</td>\n",
       "      <td>9.525386</td>\n",
       "      <td>8.884844</td>\n",
       "    </tr>\n",
       "    <tr>\n",
       "      <th>12</th>\n",
       "      <td>12.014767</td>\n",
       "      <td>14.280740</td>\n",
       "      <td>5.815811</td>\n",
       "      <td>12.175315</td>\n",
       "      <td>12.284152</td>\n",
       "    </tr>\n",
       "    <tr>\n",
       "      <th>13</th>\n",
       "      <td>11.979341</td>\n",
       "      <td>14.569169</td>\n",
       "      <td>10.294576</td>\n",
       "      <td>6.393044</td>\n",
       "      <td>11.233360</td>\n",
       "    </tr>\n",
       "    <tr>\n",
       "      <th>14</th>\n",
       "      <td>16.311490</td>\n",
       "      <td>13.158110</td>\n",
       "      <td>6.620992</td>\n",
       "      <td>14.138037</td>\n",
       "      <td>8.835903</td>\n",
       "    </tr>\n",
       "    <tr>\n",
       "      <th>15</th>\n",
       "      <td>5.098192</td>\n",
       "      <td>8.577805</td>\n",
       "      <td>12.329925</td>\n",
       "      <td>7.248314</td>\n",
       "      <td>13.046870</td>\n",
       "    </tr>\n",
       "    <tr>\n",
       "      <th>16</th>\n",
       "      <td>5.513859</td>\n",
       "      <td>13.695441</td>\n",
       "      <td>8.127893</td>\n",
       "      <td>9.236379</td>\n",
       "      <td>12.758012</td>\n",
       "    </tr>\n",
       "    <tr>\n",
       "      <th>17</th>\n",
       "      <td>14.777831</td>\n",
       "      <td>15.201344</td>\n",
       "      <td>10.026260</td>\n",
       "      <td>6.812196</td>\n",
       "      <td>16.781436</td>\n",
       "    </tr>\n",
       "    <tr>\n",
       "      <th>18</th>\n",
       "      <td>11.393854</td>\n",
       "      <td>8.318489</td>\n",
       "      <td>13.023513</td>\n",
       "      <td>13.130448</td>\n",
       "      <td>4.330235</td>\n",
       "    </tr>\n",
       "    <tr>\n",
       "      <th>19</th>\n",
       "      <td>10.149454</td>\n",
       "      <td>13.281037</td>\n",
       "      <td>11.141809</td>\n",
       "      <td>10.071733</td>\n",
       "      <td>13.483381</td>\n",
       "    </tr>\n",
       "    <tr>\n",
       "      <th>20</th>\n",
       "      <td>15.459764</td>\n",
       "      <td>11.911651</td>\n",
       "      <td>11.220090</td>\n",
       "      <td>18.217092</td>\n",
       "      <td>15.926311</td>\n",
       "    </tr>\n",
       "  </tbody>\n",
       "</table>\n",
       "</div>"
      ],
      "text/plain": [
       "            A          B          C          D          E\n",
       "1    8.587753   7.121362   8.358902   7.153734   8.828124\n",
       "2   11.693080   5.562070   6.389781  14.408208   9.440859\n",
       "3    8.065764   7.527444   8.085609  12.870528  13.062846\n",
       "4    6.918876  12.383156  10.178678  13.352279   8.250085\n",
       "5    4.056938   9.598747  14.847192  10.229815  11.788032\n",
       "6    9.001285  10.117987  12.664407   7.695150   8.550993\n",
       "7    9.916747   5.470006  10.308358  10.370770   9.874822\n",
       "8    7.760434  10.886040  11.560838  10.118582   9.690864\n",
       "9    9.466818  11.123679  12.093329  10.715503   7.961007\n",
       "10   8.026868   9.142718  12.040130  10.080445  11.980792\n",
       "11  10.345170  13.122910  10.421790   9.525386   8.884844\n",
       "12  12.014767  14.280740   5.815811  12.175315  12.284152\n",
       "13  11.979341  14.569169  10.294576   6.393044  11.233360\n",
       "14  16.311490  13.158110   6.620992  14.138037   8.835903\n",
       "15   5.098192   8.577805  12.329925   7.248314  13.046870\n",
       "16   5.513859  13.695441   8.127893   9.236379  12.758012\n",
       "17  14.777831  15.201344  10.026260   6.812196  16.781436\n",
       "18  11.393854   8.318489  13.023513  13.130448   4.330235\n",
       "19  10.149454  13.281037  11.141809  10.071733  13.483381\n",
       "20  15.459764  11.911651  11.220090  18.217092  15.926311"
      ]
     },
     "execution_count": 53,
     "metadata": {},
     "output_type": "execute_result"
    }
   ],
   "source": [
    "Df"
   ]
  },
  {
   "cell_type": "code",
   "execution_count": 54,
   "metadata": {},
   "outputs": [],
   "source": [
    "sn=np.random.normal(range(3000))"
   ]
  },
  {
   "cell_type": "code",
   "execution_count": 55,
   "metadata": {},
   "outputs": [
    {
     "data": {
      "text/plain": [
       "array([-3.44134211e+00,  9.72333364e-01,  1.17270948e+00, ...,\n",
       "        2.99827033e+03,  2.99790076e+03,  2.99797169e+03])"
      ]
     },
     "execution_count": 55,
     "metadata": {},
     "output_type": "execute_result"
    }
   ],
   "source": [
    "sn"
   ]
  },
  {
   "cell_type": "code",
   "execution_count": 2,
   "metadata": {},
   "outputs": [],
   "source": [
    "import seaborn as sns"
   ]
  },
  {
   "cell_type": "code",
   "execution_count": 58,
   "metadata": {},
   "outputs": [
    {
     "name": "stderr",
     "output_type": "stream",
     "text": [
      "C:\\Users\\Dell\\anaconda3\\lib\\site-packages\\seaborn\\distributions.py:2557: FutureWarning: `distplot` is a deprecated function and will be removed in a future version. Please adapt your code to use either `displot` (a figure-level function with similar flexibility) or `histplot` (an axes-level function for histograms).\n",
      "  warnings.warn(msg, FutureWarning)\n"
     ]
    },
    {
     "data": {
      "text/plain": [
       "<matplotlib.axes._subplots.AxesSubplot at 0x230a760a5c8>"
      ]
     },
     "execution_count": 58,
     "metadata": {},
     "output_type": "execute_result"
    },
    {
     "data": {
      "image/png": "[encoded data removed]",
      "text/plain": [
       "<Figure size 432x288 with 1 Axes>"
      ]
     },
     "metadata": {
      "needs_background": "light"
     },
     "output_type": "display_data"
    }
   ],
   "source": [
    "sns.distplot(sn)"
   ]
  },
  {
   "cell_type": "code",
   "execution_count": 60,
   "metadata": {},
   "outputs": [
    {
     "data": {
      "text/plain": [
       "array([-0.91956827, -1.33567336, -0.06158366, ..., -0.64950954,\n",
       "       -0.2893006 , -2.12725705])"
      ]
     },
     "execution_count": 60,
     "metadata": {},
     "output_type": "execute_result"
    }
   ],
   "source": [
    "sn=np.random.normal(size=3000)\n",
    "sn"
   ]
  },
  {
   "cell_type": "code",
   "execution_count": 62,
   "metadata": {},
   "outputs": [
    {
     "data": {
      "text/plain": [
       "<seaborn.axisgrid.FacetGrid at 0x230a9c6f148>"
      ]
     },
     "execution_count": 62,
     "metadata": {},
     "output_type": "execute_result"
    },
    {
     "data": {
      "image/png": "[encoded data removed]",
      "text/plain": [
       "<Figure size 360x360 with 1 Axes>"
      ]
     },
     "metadata": {
      "needs_background": "light"
     },
     "output_type": "display_data"
    }
   ],
   "source": [
    "sns.displot(sn,kind='hist')"
   ]
  },
  {
   "cell_type": "code",
   "execution_count": 63,
   "metadata": {},
   "outputs": [
    {
     "data": {
      "text/plain": [
       "<seaborn.axisgrid.FacetGrid at 0x230a9c20c08>"
      ]
     },
     "execution_count": 63,
     "metadata": {},
     "output_type": "execute_result"
    },
    {
     "data": {
      "image/png": "[encoded data removed]",
      "text/plain": [
       "<Figure size 360x360 with 1 Axes>"
      ]
     },
     "metadata": {
      "needs_background": "light"
     },
     "output_type": "display_data"
    }
   ],
   "source": [
    "sns.displot(sn,kind='kde')"
   ]
  },
  {
   "cell_type": "code",
   "execution_count": 64,
   "metadata": {},
   "outputs": [
    {
     "name": "stderr",
     "output_type": "stream",
     "text": [
      "C:\\Users\\Dell\\anaconda3\\lib\\site-packages\\seaborn\\distributions.py:2557: FutureWarning: `distplot` is a deprecated function and will be removed in a future version. Please adapt your code to use either `displot` (a figure-level function with similar flexibility) or `histplot` (an axes-level function for histograms).\n",
      "  warnings.warn(msg, FutureWarning)\n"
     ]
    },
    {
     "data": {
      "text/plain": [
       "<matplotlib.axes._subplots.AxesSubplot at 0x230a9e44788>"
      ]
     },
     "execution_count": 64,
     "metadata": {},
     "output_type": "execute_result"
    },
    {
     "data": {
      "image/png": "[encoded data removed]",
      "text/plain": [
       "<Figure size 432x288 with 1 Axes>"
      ]
     },
     "metadata": {
      "needs_background": "light"
     },
     "output_type": "display_data"
    }
   ],
   "source": [
    "sns.distplot(sn)"
   ]
  },
  {
   "cell_type": "code",
   "execution_count": 65,
   "metadata": {},
   "outputs": [
    {
     "data": {
      "text/plain": [
       "array([4, 3, 1, 4, 2, 3, 4, 4, 2, 2, 0, 6, 4, 4, 5, 3, 3, 5, 3, 4, 1, 1,\n",
       "       0, 2, 5, 2, 2, 1, 4, 4, 1, 4, 4, 5, 2, 1, 3, 3, 1, 3, 2, 5, 1, 2,\n",
       "       2, 5, 3, 4, 1, 4, 4, 1, 2, 1, 4, 3, 3, 2, 4, 4, 3, 3, 3, 2, 4, 1,\n",
       "       2, 5, 3, 3, 0, 3, 4, 2, 4, 3, 5, 5, 2, 3, 2, 4, 2, 4, 1, 4, 1, 1,\n",
       "       2, 4, 3, 2, 3, 4, 3, 2, 5, 2, 2, 2])"
      ]
     },
     "execution_count": 65,
     "metadata": {},
     "output_type": "execute_result"
    }
   ],
   "source": [
    "bn=np.random.binomial(6,0.5,size=100)\n",
    "bn"
   ]
  },
  {
   "cell_type": "code",
   "execution_count": 67,
   "metadata": {},
   "outputs": [
    {
     "data": {
      "text/plain": [
       "array([2, 1, 1, 1, 1, 2, 2, 1, 2, 2, 2, 2, 2, 2, 2, 1, 2, 1, 2, 2, 2, 2,\n",
       "       2, 2, 2, 1, 2, 2, 1, 0, 1, 1, 2, 2, 2, 2, 1, 1, 2, 1, 1, 2, 2, 1,\n",
       "       2, 2, 2, 1, 2, 0, 1, 1, 1, 2, 2, 2, 1, 2, 2, 2, 2, 2, 2, 2, 2, 1,\n",
       "       2, 2, 2, 2, 2, 1, 2, 2, 2, 1, 2, 1, 2, 2, 1, 2, 2, 1, 2, 2, 1, 2,\n",
       "       1, 1, 2, 2, 1, 2, 2, 2, 2, 1, 2, 2, 1, 1, 2, 0, 1, 2, 2, 2, 2, 2,\n",
       "       0, 2, 1, 2, 2, 1, 2, 1, 1, 2, 2, 2, 0, 2, 2, 2, 2, 1, 2, 2, 2, 2,\n",
       "       2, 2, 2, 2, 2, 2, 1, 1, 1, 1, 1, 1, 2, 1, 2, 2, 2, 2, 2, 2, 2, 1,\n",
       "       2, 1, 1, 2, 2, 1, 2, 1, 2, 2, 1, 2, 2, 2, 2, 2, 1, 2, 2, 1, 1, 2,\n",
       "       2, 1, 1, 2, 2, 2, 2, 2, 2, 2, 1, 1, 2, 2, 2, 2, 2, 2, 1, 2, 2, 2,\n",
       "       2, 1, 2, 2, 1, 2, 2, 1, 2, 2, 2, 2, 0, 2, 2, 2, 1, 2, 2, 1, 1, 1,\n",
       "       2, 2, 0, 1, 2, 2, 1, 2, 1, 2, 2, 1, 2, 0, 1, 1, 1, 1, 2, 2, 1, 1,\n",
       "       1, 1, 1, 2, 2, 1, 2, 2, 2, 2, 1, 2, 2, 2, 1, 1, 2, 2, 2, 2, 2, 1,\n",
       "       2, 1, 2, 2, 1, 2, 2, 2, 2, 2, 1, 2, 1, 1, 1, 2, 2, 2, 2, 2, 1, 0,\n",
       "       0, 2, 1, 1, 2, 2, 2, 2, 2, 2, 2, 1, 2, 2, 1, 2, 2, 2, 2, 2, 2, 2,\n",
       "       2, 1, 2, 2, 2, 0, 2, 2, 2, 2, 1, 1, 1, 2, 2, 2, 1, 2, 2, 2, 2, 2,\n",
       "       2, 2, 1, 1, 1, 2, 1, 2, 2, 2, 2, 2, 1, 2, 2, 1, 2, 2, 1, 2, 2, 1,\n",
       "       1, 2, 2, 2, 1, 2, 2, 1, 2, 2, 2, 2, 2, 2, 2, 0, 2, 1, 2, 2, 2, 1,\n",
       "       1, 1, 1, 1, 1, 2, 2, 2, 2, 2, 2, 2, 2, 1, 0, 1, 2, 2, 2, 2, 0, 2,\n",
       "       2, 2, 2, 2, 2, 2, 2, 2, 2, 1, 1, 2, 1, 1, 1, 2, 2, 2, 2, 2, 2, 2,\n",
       "       1, 2, 2, 2, 1, 2, 2, 2, 2, 2, 2, 1, 2, 1, 2, 0, 1, 2, 2, 2, 2, 2,\n",
       "       2, 2, 2, 2, 2, 2, 2, 2, 0, 2, 2, 1, 1, 2, 2, 0, 2, 2, 1, 1, 1, 1,\n",
       "       2, 2, 1, 2, 1, 2, 1, 2, 2, 2, 2, 2, 1, 2, 2, 2, 1, 2, 1, 2, 2, 2,\n",
       "       1, 0, 2, 2, 2, 2, 1, 2, 2, 1, 1, 1, 2, 2, 1, 0, 2, 2, 1, 1, 1, 2,\n",
       "       2, 1, 0, 1, 2, 2, 1, 2, 2, 2, 2, 1, 1, 2, 1, 2, 2, 0, 2, 2, 1, 0,\n",
       "       1, 2, 2, 1, 1, 2, 1, 2, 1, 1, 2, 2, 2, 2, 2, 2, 2, 2, 2, 2, 2, 2,\n",
       "       2, 2, 2, 2, 2, 2, 2, 2, 2, 2, 1, 1, 2, 2, 2, 1, 2, 0, 1, 2, 1, 2,\n",
       "       2, 1, 2, 1, 2, 2, 2, 2, 1, 2, 2, 1, 2, 2, 1, 2, 1, 1, 2, 0, 1, 2,\n",
       "       1, 1, 2, 2, 1, 1, 2, 2, 2, 2, 1, 2, 1, 2, 1, 1, 2, 2, 2, 1, 2, 2,\n",
       "       2, 1, 2, 2, 1, 2, 1, 1, 2, 2, 2, 2, 2, 1, 2, 2, 1, 2, 2, 2, 2, 1,\n",
       "       2, 2, 2, 1, 2, 0, 1, 2, 2, 1, 2, 2, 1, 2, 2, 1, 1, 1, 2, 2, 2, 1,\n",
       "       2, 1, 1, 1, 2, 2, 1, 1, 0, 2, 2, 2, 2, 1, 2, 2, 1, 1, 1, 1, 2, 2,\n",
       "       2, 2, 2, 1, 2, 1, 2, 1, 2, 2, 2, 2, 0, 0, 1, 2, 0, 2, 2, 2, 2, 1,\n",
       "       2, 1, 2, 2, 1, 2, 1, 1, 1, 2, 2, 1, 2, 2, 1, 1, 2, 2, 2, 1, 2, 2,\n",
       "       2, 1, 2, 2, 2, 2, 0, 1, 2, 1, 2, 1, 2, 1, 1, 2, 2, 2, 1, 2, 2, 1,\n",
       "       2, 1, 2, 1, 1, 2, 1, 2, 2, 2, 2, 1, 2, 2, 2, 2, 2, 2, 2, 0, 2, 1,\n",
       "       2, 1, 1, 2, 2, 0, 2, 2, 2, 2, 2, 2, 0, 2, 2, 1, 1, 2, 2, 2, 2, 2,\n",
       "       2, 1, 2, 1, 0, 2, 2, 2, 2, 2, 1, 2, 2, 1, 2, 2, 1, 2, 1, 2, 2, 1,\n",
       "       2, 1, 2, 2, 2, 2, 2, 2, 2, 1, 1, 2, 2, 2, 1, 2, 2, 2, 1, 1, 1, 2,\n",
       "       1, 1, 2, 2, 1, 2, 2, 2, 2, 2, 1, 2, 2, 2, 2, 2, 2, 2, 1, 2, 2, 2,\n",
       "       2, 2, 1, 2, 1, 2, 1, 1, 0, 2, 2, 2, 2, 0, 2, 1, 1, 2, 2, 1, 2, 1,\n",
       "       2, 2, 2, 2, 2, 1, 1, 2, 2, 2, 1, 2, 2, 0, 2, 2, 1, 2, 2, 2, 2, 2,\n",
       "       1, 2, 2, 2, 1, 2, 1, 2, 2, 2, 2, 2, 2, 0, 1, 1, 2, 2, 2, 1, 1, 0,\n",
       "       2, 2, 2, 1, 1, 1, 2, 2, 1, 1, 2, 2, 2, 2, 2, 2, 2, 2, 0, 2, 1, 1,\n",
       "       0, 2, 2, 2, 1, 1, 1, 2, 2, 2, 2, 2, 2, 2, 2, 2, 1, 1, 2, 1, 2, 1,\n",
       "       1, 2, 2, 2, 1, 1, 2, 1, 2, 2, 2, 1, 2, 2, 2, 2, 2, 1, 1, 2, 2, 2,\n",
       "       2, 2, 2, 0, 1, 1, 0, 2, 2, 2])"
      ]
     },
     "execution_count": 67,
     "metadata": {},
     "output_type": "execute_result"
    }
   ],
   "source": [
    "bn1=np.random.binomial(2,0.8,size=1000)\n",
    "bn1"
   ]
  },
  {
   "cell_type": "code",
   "execution_count": 69,
   "metadata": {},
   "outputs": [
    {
     "data": {
      "text/plain": [
       "array([3, 5, 3, ..., 5, 3, 4])"
      ]
     },
     "execution_count": 69,
     "metadata": {},
     "output_type": "execute_result"
    }
   ],
   "source": [
    "data=np.random.binomial(6,0.5,size=3000)\n",
    "data"
   ]
  },
  {
   "cell_type": "code",
   "execution_count": 70,
   "metadata": {},
   "outputs": [
    {
     "data": {
      "text/plain": [
       "<seaborn.axisgrid.FacetGrid at 0x230aa6a2ac8>"
      ]
     },
     "execution_count": 70,
     "metadata": {},
     "output_type": "execute_result"
    },
    {
     "data": {
      "image/png": "[encoded data removed]",
      "text/plain": [
       "<Figure size 360x360 with 1 Axes>"
      ]
     },
     "metadata": {
      "needs_background": "light"
     },
     "output_type": "display_data"
    }
   ],
   "source": [
    "sns.displot(data)"
   ]
  },
  {
   "cell_type": "code",
   "execution_count": 74,
   "metadata": {},
   "outputs": [
    {
     "data": {
      "text/plain": [
       "array([[0.57443212, 0.70563059, 0.34069663],\n",
       "       [0.89790395, 0.12453518, 0.44501043],\n",
       "       [0.49098839, 0.20877563, 0.37905321]])"
      ]
     },
     "execution_count": 74,
     "metadata": {},
     "output_type": "execute_result"
    }
   ],
   "source": [
    "rnun=np.random.uniform(size=(3,3))\n",
    "rnun"
   ]
  },
  {
   "cell_type": "code",
   "execution_count": 75,
   "metadata": {},
   "outputs": [
    {
     "data": {
      "text/plain": [
       "<seaborn.axisgrid.FacetGrid at 0x230ab907708>"
      ]
     },
     "execution_count": 75,
     "metadata": {},
     "output_type": "execute_result"
    },
    {
     "data": {
      "image/png": "[encoded data removed]",
      "text/plain": [
       "<Figure size 360x360 with 1 Axes>"
      ]
     },
     "metadata": {
      "needs_background": "light"
     },
     "output_type": "display_data"
    }
   ],
   "source": [
    "und=np.random.uniform(size=1000)\n",
    "sns.displot(und)"
   ]
  },
  {
   "cell_type": "code",
   "execution_count": 76,
   "metadata": {},
   "outputs": [
    {
     "data": {
      "text/plain": [
       "array([[2624, 2724, 2512, 1773, 2638],\n",
       "       [1020, 2681, 1197, 2797, 1322],\n",
       "       [2648, 1774, 1510, 1865, 2052],\n",
       "       [1490, 1541, 2115, 1870, 2466],\n",
       "       [2824, 1803, 1478, 1248, 2876],\n",
       "       [2594, 1074, 2584, 2240, 1713],\n",
       "       [1061, 2433, 2345, 1118, 2279],\n",
       "       [2744, 1393, 2979, 2172, 2425],\n",
       "       [2755, 2283, 1377, 1079, 1894],\n",
       "       [1822, 2770, 1459, 2123, 2366],\n",
       "       [1971, 2604, 1844, 1902, 2801],\n",
       "       [1797, 2498, 1616, 2884, 2540],\n",
       "       [2932, 2809, 2605, 1367, 2990],\n",
       "       [1245, 2755, 2903, 1258, 2590],\n",
       "       [2771, 2293, 1200, 1229, 1000],\n",
       "       [2593, 1707, 1979, 1546, 1984],\n",
       "       [2879, 2556, 1494, 1643, 1966],\n",
       "       [2797, 2293, 2651, 1902, 1388],\n",
       "       [1879, 2402, 1185, 2499, 2860],\n",
       "       [2063, 1506, 1170, 1249, 2746],\n",
       "       [1662, 1951, 1604, 2465, 1696],\n",
       "       [2068, 2274, 1783, 2155, 1324],\n",
       "       [1961, 1473, 1133, 2519, 1040],\n",
       "       [1381, 2041, 1805, 2808, 1902],\n",
       "       [1108, 2095, 2613, 2920, 2676],\n",
       "       [1476, 1550, 1934, 2202, 1135],\n",
       "       [1342, 1845, 2319, 2976, 2641],\n",
       "       [2773, 1403, 2546, 2295, 2150],\n",
       "       [2736, 2374, 2600, 1064, 1383],\n",
       "       [2461, 2062, 2945, 1237, 1443]])"
      ]
     },
     "execution_count": 76,
     "metadata": {},
     "output_type": "execute_result"
    }
   ],
   "source": [
    "rand=np.random.randint(1000,3000,size=(30,5))\n",
    "rand"
   ]
  },
  {
   "cell_type": "code",
   "execution_count": 78,
   "metadata": {},
   "outputs": [
    {
     "data": {
      "text/plain": [
       "(30, 5)"
      ]
     },
     "execution_count": 78,
     "metadata": {},
     "output_type": "execute_result"
    }
   ],
   "source": [
    "rand.shape"
   ]
  },
  {
   "cell_type": "code",
   "execution_count": 79,
   "metadata": {},
   "outputs": [
    {
     "data": {
      "text/plain": [
       "150"
      ]
     },
     "execution_count": 79,
     "metadata": {},
     "output_type": "execute_result"
    }
   ],
   "source": [
    "rand.size"
   ]
  },
  {
   "cell_type": "code",
   "execution_count": 80,
   "metadata": {},
   "outputs": [
    {
     "data": {
      "text/plain": [
       "dtype('int32')"
      ]
     },
     "execution_count": 80,
     "metadata": {},
     "output_type": "execute_result"
    }
   ],
   "source": [
    "rand.dtype"
   ]
  },
  {
   "cell_type": "code",
   "execution_count": 81,
   "metadata": {},
   "outputs": [
    {
     "data": {
      "text/plain": [
       "2"
      ]
     },
     "execution_count": 81,
     "metadata": {},
     "output_type": "execute_result"
    }
   ],
   "source": [
    "rand.ndim"
   ]
  },
  {
   "cell_type": "code",
   "execution_count": 82,
   "metadata": {},
   "outputs": [
    {
     "data": {
      "text/plain": [
       "array([[0, 2, 0, 3, 0],\n",
       "       [2, 3, 2, 3, 0],\n",
       "       [3, 1, 2, 2, 0],\n",
       "       [0, 0, 2, 1, 0],\n",
       "       [0, 3, 0, 0, 3],\n",
       "       [3, 0, 1, 3, 1],\n",
       "       [3, 0, 1, 3, 0],\n",
       "       [3, 3, 2, 1, 1],\n",
       "       [3, 2, 2, 3, 0],\n",
       "       [1, 3, 3, 3, 3],\n",
       "       [0, 0, 1, 2, 1],\n",
       "       [2, 3, 0, 3, 1],\n",
       "       [1, 0, 1, 0, 1],\n",
       "       [3, 3, 2, 1, 1],\n",
       "       [3, 2, 1, 0, 2],\n",
       "       [0, 2, 0, 1, 2],\n",
       "       [0, 0, 1, 2, 3],\n",
       "       [2, 3, 0, 3, 3],\n",
       "       [1, 0, 1, 3, 0],\n",
       "       [1, 0, 0, 2, 1],\n",
       "       [0, 1, 3, 3, 0],\n",
       "       [1, 1, 0, 2, 1],\n",
       "       [2, 3, 3, 1, 0],\n",
       "       [3, 2, 2, 3, 2],\n",
       "       [3, 0, 0, 2, 0],\n",
       "       [3, 1, 0, 3, 2],\n",
       "       [3, 3, 1, 0, 1],\n",
       "       [3, 3, 1, 1, 2],\n",
       "       [2, 3, 3, 0, 0],\n",
       "       [2, 3, 0, 3, 2]])"
      ]
     },
     "execution_count": 82,
     "metadata": {},
     "output_type": "execute_result"
    }
   ],
   "source": [
    "rndm1=np.random.randint(0,4,size=(30,5))\n",
    "rndm1"
   ]
  },
  {
   "cell_type": "code",
   "execution_count": 85,
   "metadata": {},
   "outputs": [
    {
     "data": {
      "text/plain": [
       "array([  51,   42,   18, 4310])"
      ]
     },
     "execution_count": 85,
     "metadata": {},
     "output_type": "execute_result"
    }
   ],
   "source": [
    "uprndmlimit=np.random.randint(10,[100, 300, 50, 10000])\n",
    "uprndmlimit"
   ]
  },
  {
   "cell_type": "code",
   "execution_count": 86,
   "metadata": {},
   "outputs": [],
   "source": [
    "on=np.random.rand(10,5)"
   ]
  },
  {
   "cell_type": "code",
   "execution_count": 87,
   "metadata": {},
   "outputs": [
    {
     "data": {
      "text/plain": [
       "array([[0.56320154, 0.49705937, 0.52855871, 0.10681046, 0.06751271],\n",
       "       [0.71998021, 0.28363417, 0.11561879, 0.87412718, 0.66476913],\n",
       "       [0.58089114, 0.90217229, 0.03860096, 0.25965565, 0.11419081],\n",
       "       [0.82170349, 0.67883457, 0.71807857, 0.68944878, 0.88301824],\n",
       "       [0.37696272, 0.68828705, 0.00968023, 0.12598053, 0.81214954],\n",
       "       [0.60880699, 0.51237427, 0.61758313, 0.84681883, 0.7965085 ],\n",
       "       [0.97555754, 0.61539687, 0.09723325, 0.39574478, 0.42860902],\n",
       "       [0.39667919, 0.11926609, 0.51831832, 0.85180757, 0.5343722 ],\n",
       "       [0.54870544, 0.1712357 , 0.49549037, 0.2224983 , 0.10087503],\n",
       "       [0.67622   , 0.83343765, 0.33765962, 0.36892535, 0.9717977 ]])"
      ]
     },
     "execution_count": 87,
     "metadata": {},
     "output_type": "execute_result"
    }
   ],
   "source": [
    "on"
   ]
  },
  {
   "cell_type": "code",
   "execution_count": 89,
   "metadata": {},
   "outputs": [
    {
     "data": {
      "text/plain": [
       "<seaborn.axisgrid.FacetGrid at 0x230a9fc3f48>"
      ]
     },
     "execution_count": 89,
     "metadata": {},
     "output_type": "execute_result"
    },
    {
     "data": {
      "image/png": "[encoded data removed]",
      "text/plain": [
       "<Figure size 402.375x360 with 1 Axes>"
      ]
     },
     "metadata": {
      "needs_background": "light"
     },
     "output_type": "display_data"
    }
   ],
   "source": [
    "sns.displot(data=on)"
   ]
  },
  {
   "cell_type": "code",
   "execution_count": 91,
   "metadata": {},
   "outputs": [
    {
     "data": {
      "text/plain": [
       "0.5032569707014712"
      ]
     },
     "execution_count": 91,
     "metadata": {},
     "output_type": "execute_result"
    }
   ],
   "source": [
    "on.mean()"
   ]
  },
  {
   "cell_type": "code",
   "execution_count": 92,
   "metadata": {},
   "outputs": [
    {
     "data": {
      "text/plain": [
       "0.07850996296610896"
      ]
     },
     "execution_count": 92,
     "metadata": {},
     "output_type": "execute_result"
    }
   ],
   "source": [
    "on.var()"
   ]
  },
  {
   "cell_type": "code",
   "execution_count": 93,
   "metadata": {},
   "outputs": [
    {
     "data": {
      "text/plain": [
       "0.2801962936337827"
      ]
     },
     "execution_count": 93,
     "metadata": {},
     "output_type": "execute_result"
    }
   ],
   "source": [
    "on.std()"
   ]
  },
  {
   "cell_type": "code",
   "execution_count": 94,
   "metadata": {},
   "outputs": [
    {
     "data": {
      "text/plain": [
       "0.5314654538235734"
      ]
     },
     "execution_count": 94,
     "metadata": {},
     "output_type": "execute_result"
    }
   ],
   "source": [
    "np.median(on)"
   ]
  },
  {
   "cell_type": "code",
   "execution_count": 100,
   "metadata": {},
   "outputs": [
    {
     "data": {
      "text/plain": [
       "array([[ 0.60734009, -0.59446851, -1.17587562],\n",
       "       [ 0.61232656,  0.3064369 , -1.77444489],\n",
       "       [ 0.64439637,  1.0736245 ,  1.3019379 ],\n",
       "       [ 0.14965652, -0.81800767, -1.64275439],\n",
       "       [ 1.30386254,  1.32608831, -0.93841921],\n",
       "       [-0.282451  ,  1.20269115,  0.44475042],\n",
       "       [ 0.14472074, -0.22419019,  0.30901966],\n",
       "       [-1.16100023,  0.05981293,  0.38701425],\n",
       "       [ 2.16086085, -0.60355169, -1.88099965],\n",
       "       [ 0.8142293 ,  1.46248463, -0.40508647],\n",
       "       [ 0.67818014,  0.16807591, -0.46597509],\n",
       "       [-1.09897775,  1.65290745,  0.88318214],\n",
       "       [-0.35016928, -0.16043389,  1.17448629],\n",
       "       [-0.31933563,  0.41660664, -1.55382206],\n",
       "       [-1.11910775, -0.70816954,  1.427031  ],\n",
       "       [-1.0424027 , -1.23558819,  0.71836968],\n",
       "       [-0.72512578,  0.98339477,  0.14332269],\n",
       "       [ 0.63389189, -0.28436462, -1.00994782],\n",
       "       [ 0.71371192,  0.66102055, -0.36464585],\n",
       "       [ 0.70749414,  0.26448497,  0.69900434],\n",
       "       [-1.22099686,  0.72670183,  2.28712097],\n",
       "       [ 0.68051232,  1.31812954,  0.51942658],\n",
       "       [-0.13003297,  1.17230719,  0.48804048],\n",
       "       [-0.46189816,  0.23050021, -2.4258711 ],\n",
       "       [-0.43178262, -0.8799734 ,  0.55583346],\n",
       "       [ 0.86715742,  1.25479659,  0.07580326],\n",
       "       [ 0.36544079, -0.58017464,  0.11102236],\n",
       "       [ 0.60950082, -1.02688886,  2.12087463],\n",
       "       [-0.47347317,  0.88528292, -0.16319686],\n",
       "       [-0.29820151,  0.58721886,  1.47372476]])"
      ]
     },
     "execution_count": 100,
     "metadata": {},
     "output_type": "execute_result"
    }
   ],
   "source": [
    "rnn=np.random.randn(30,3)\n",
    "rnn"
   ]
  },
  {
   "cell_type": "code",
   "execution_count": 102,
   "metadata": {},
   "outputs": [
    {
     "data": {
      "text/html": [
       "<div>\n",
       "<style scoped>\n",
       "    .dataframe tbody tr th:only-of-type {\n",
       "        vertical-align: middle;\n",
       "    }\n",
       "\n",
       "    .dataframe tbody tr th {\n",
       "        vertical-align: top;\n",
       "    }\n",
       "\n",
       "    .dataframe thead th {\n",
       "        text-align: right;\n",
       "    }\n",
       "</style>\n",
       "<table border=\"1\" class=\"dataframe\">\n",
       "  <thead>\n",
       "    <tr style=\"text-align: right;\">\n",
       "      <th></th>\n",
       "      <th>a</th>\n",
       "      <th>b</th>\n",
       "      <th>c</th>\n",
       "    </tr>\n",
       "  </thead>\n",
       "  <tbody>\n",
       "    <tr>\n",
       "      <th>0</th>\n",
       "      <td>0.607340</td>\n",
       "      <td>-0.594469</td>\n",
       "      <td>-1.175876</td>\n",
       "    </tr>\n",
       "    <tr>\n",
       "      <th>1</th>\n",
       "      <td>0.612327</td>\n",
       "      <td>0.306437</td>\n",
       "      <td>-1.774445</td>\n",
       "    </tr>\n",
       "    <tr>\n",
       "      <th>2</th>\n",
       "      <td>0.644396</td>\n",
       "      <td>1.073625</td>\n",
       "      <td>1.301938</td>\n",
       "    </tr>\n",
       "    <tr>\n",
       "      <th>3</th>\n",
       "      <td>0.149657</td>\n",
       "      <td>-0.818008</td>\n",
       "      <td>-1.642754</td>\n",
       "    </tr>\n",
       "    <tr>\n",
       "      <th>4</th>\n",
       "      <td>1.303863</td>\n",
       "      <td>1.326088</td>\n",
       "      <td>-0.938419</td>\n",
       "    </tr>\n",
       "    <tr>\n",
       "      <th>5</th>\n",
       "      <td>-0.282451</td>\n",
       "      <td>1.202691</td>\n",
       "      <td>0.444750</td>\n",
       "    </tr>\n",
       "    <tr>\n",
       "      <th>6</th>\n",
       "      <td>0.144721</td>\n",
       "      <td>-0.224190</td>\n",
       "      <td>0.309020</td>\n",
       "    </tr>\n",
       "    <tr>\n",
       "      <th>7</th>\n",
       "      <td>-1.161000</td>\n",
       "      <td>0.059813</td>\n",
       "      <td>0.387014</td>\n",
       "    </tr>\n",
       "    <tr>\n",
       "      <th>8</th>\n",
       "      <td>2.160861</td>\n",
       "      <td>-0.603552</td>\n",
       "      <td>-1.881000</td>\n",
       "    </tr>\n",
       "    <tr>\n",
       "      <th>9</th>\n",
       "      <td>0.814229</td>\n",
       "      <td>1.462485</td>\n",
       "      <td>-0.405086</td>\n",
       "    </tr>\n",
       "    <tr>\n",
       "      <th>10</th>\n",
       "      <td>0.678180</td>\n",
       "      <td>0.168076</td>\n",
       "      <td>-0.465975</td>\n",
       "    </tr>\n",
       "    <tr>\n",
       "      <th>11</th>\n",
       "      <td>-1.098978</td>\n",
       "      <td>1.652907</td>\n",
       "      <td>0.883182</td>\n",
       "    </tr>\n",
       "    <tr>\n",
       "      <th>12</th>\n",
       "      <td>-0.350169</td>\n",
       "      <td>-0.160434</td>\n",
       "      <td>1.174486</td>\n",
       "    </tr>\n",
       "    <tr>\n",
       "      <th>13</th>\n",
       "      <td>-0.319336</td>\n",
       "      <td>0.416607</td>\n",
       "      <td>-1.553822</td>\n",
       "    </tr>\n",
       "    <tr>\n",
       "      <th>14</th>\n",
       "      <td>-1.119108</td>\n",
       "      <td>-0.708170</td>\n",
       "      <td>1.427031</td>\n",
       "    </tr>\n",
       "    <tr>\n",
       "      <th>15</th>\n",
       "      <td>-1.042403</td>\n",
       "      <td>-1.235588</td>\n",
       "      <td>0.718370</td>\n",
       "    </tr>\n",
       "    <tr>\n",
       "      <th>16</th>\n",
       "      <td>-0.725126</td>\n",
       "      <td>0.983395</td>\n",
       "      <td>0.143323</td>\n",
       "    </tr>\n",
       "    <tr>\n",
       "      <th>17</th>\n",
       "      <td>0.633892</td>\n",
       "      <td>-0.284365</td>\n",
       "      <td>-1.009948</td>\n",
       "    </tr>\n",
       "    <tr>\n",
       "      <th>18</th>\n",
       "      <td>0.713712</td>\n",
       "      <td>0.661021</td>\n",
       "      <td>-0.364646</td>\n",
       "    </tr>\n",
       "    <tr>\n",
       "      <th>19</th>\n",
       "      <td>0.707494</td>\n",
       "      <td>0.264485</td>\n",
       "      <td>0.699004</td>\n",
       "    </tr>\n",
       "    <tr>\n",
       "      <th>20</th>\n",
       "      <td>-1.220997</td>\n",
       "      <td>0.726702</td>\n",
       "      <td>2.287121</td>\n",
       "    </tr>\n",
       "    <tr>\n",
       "      <th>21</th>\n",
       "      <td>0.680512</td>\n",
       "      <td>1.318130</td>\n",
       "      <td>0.519427</td>\n",
       "    </tr>\n",
       "    <tr>\n",
       "      <th>22</th>\n",
       "      <td>-0.130033</td>\n",
       "      <td>1.172307</td>\n",
       "      <td>0.488040</td>\n",
       "    </tr>\n",
       "    <tr>\n",
       "      <th>23</th>\n",
       "      <td>-0.461898</td>\n",
       "      <td>0.230500</td>\n",
       "      <td>-2.425871</td>\n",
       "    </tr>\n",
       "    <tr>\n",
       "      <th>24</th>\n",
       "      <td>-0.431783</td>\n",
       "      <td>-0.879973</td>\n",
       "      <td>0.555833</td>\n",
       "    </tr>\n",
       "    <tr>\n",
       "      <th>25</th>\n",
       "      <td>0.867157</td>\n",
       "      <td>1.254797</td>\n",
       "      <td>0.075803</td>\n",
       "    </tr>\n",
       "    <tr>\n",
       "      <th>26</th>\n",
       "      <td>0.365441</td>\n",
       "      <td>-0.580175</td>\n",
       "      <td>0.111022</td>\n",
       "    </tr>\n",
       "    <tr>\n",
       "      <th>27</th>\n",
       "      <td>0.609501</td>\n",
       "      <td>-1.026889</td>\n",
       "      <td>2.120875</td>\n",
       "    </tr>\n",
       "    <tr>\n",
       "      <th>28</th>\n",
       "      <td>-0.473473</td>\n",
       "      <td>0.885283</td>\n",
       "      <td>-0.163197</td>\n",
       "    </tr>\n",
       "    <tr>\n",
       "      <th>29</th>\n",
       "      <td>-0.298202</td>\n",
       "      <td>0.587219</td>\n",
       "      <td>1.473725</td>\n",
       "    </tr>\n",
       "  </tbody>\n",
       "</table>\n",
       "</div>"
      ],
      "text/plain": [
       "           a         b         c\n",
       "0   0.607340 -0.594469 -1.175876\n",
       "1   0.612327  0.306437 -1.774445\n",
       "2   0.644396  1.073625  1.301938\n",
       "3   0.149657 -0.818008 -1.642754\n",
       "4   1.303863  1.326088 -0.938419\n",
       "5  -0.282451  1.202691  0.444750\n",
       "6   0.144721 -0.224190  0.309020\n",
       "7  -1.161000  0.059813  0.387014\n",
       "8   2.160861 -0.603552 -1.881000\n",
       "9   0.814229  1.462485 -0.405086\n",
       "10  0.678180  0.168076 -0.465975\n",
       "11 -1.098978  1.652907  0.883182\n",
       "12 -0.350169 -0.160434  1.174486\n",
       "13 -0.319336  0.416607 -1.553822\n",
       "14 -1.119108 -0.708170  1.427031\n",
       "15 -1.042403 -1.235588  0.718370\n",
       "16 -0.725126  0.983395  0.143323\n",
       "17  0.633892 -0.284365 -1.009948\n",
       "18  0.713712  0.661021 -0.364646\n",
       "19  0.707494  0.264485  0.699004\n",
       "20 -1.220997  0.726702  2.287121\n",
       "21  0.680512  1.318130  0.519427\n",
       "22 -0.130033  1.172307  0.488040\n",
       "23 -0.461898  0.230500 -2.425871\n",
       "24 -0.431783 -0.879973  0.555833\n",
       "25  0.867157  1.254797  0.075803\n",
       "26  0.365441 -0.580175  0.111022\n",
       "27  0.609501 -1.026889  2.120875\n",
       "28 -0.473473  0.885283 -0.163197\n",
       "29 -0.298202  0.587219  1.473725"
      ]
     },
     "execution_count": 102,
     "metadata": {},
     "output_type": "execute_result"
    }
   ],
   "source": [
    "df=pd.DataFrame(data=rnn,columns=list('abc'))\n",
    "df"
   ]
  },
  {
   "cell_type": "code",
   "execution_count": 103,
   "metadata": {},
   "outputs": [
    {
     "data": {
      "text/plain": [
       "<seaborn.axisgrid.FacetGrid at 0x230ac556708>"
      ]
     },
     "execution_count": 103,
     "metadata": {},
     "output_type": "execute_result"
    },
    {
     "data": {
      "image/png": "[encoded data removed]",
      "text/plain": [
       "<Figure size 402.25x360 with 1 Axes>"
      ]
     },
     "metadata": {
      "needs_background": "light"
     },
     "output_type": "display_data"
    }
   ],
   "source": [
    "sns.displot(df)"
   ]
  },
  {
   "cell_type": "code",
   "execution_count": 104,
   "metadata": {},
   "outputs": [
    {
     "data": {
      "text/plain": [
       "<seaborn.axisgrid.FacetGrid at 0x230ac7de848>"
      ]
     },
     "execution_count": 104,
     "metadata": {},
     "output_type": "execute_result"
    },
    {
     "data": {
      "image/png": "[encoded data removed]",
      "text/plain": [
       "<Figure size 402.25x360 with 1 Axes>"
      ]
     },
     "metadata": {
      "needs_background": "light"
     },
     "output_type": "display_data"
    }
   ],
   "source": [
    "sns.displot(df,kind='kde')"
   ]
  },
  {
   "cell_type": "code",
   "execution_count": 106,
   "metadata": {},
   "outputs": [
    {
     "data": {
      "text/plain": [
       "array([0.13925676, 0.12080382, 0.08309104, ..., 0.19169152, 2.32416758,\n",
       "       0.01973697])"
      ]
     },
     "execution_count": 106,
     "metadata": {},
     "output_type": "execute_result"
    }
   ],
   "source": [
    "ex=np.random.standard_exponential(3000)\n",
    "ex"
   ]
  },
  {
   "cell_type": "code",
   "execution_count": 107,
   "metadata": {},
   "outputs": [
    {
     "data": {
      "text/plain": [
       "array([[ 4,  3,  8],\n",
       "       [ 5,  5,  5],\n",
       "       [ 4,  1,  6],\n",
       "       [11,  5,  7],\n",
       "       [ 7,  4,  8],\n",
       "       [ 1,  3,  7],\n",
       "       [ 2,  5,  4],\n",
       "       [ 8,  3,  1],\n",
       "       [ 4,  4,  8],\n",
       "       [ 4,  4,  7],\n",
       "       [ 3,  7,  4],\n",
       "       [ 6,  3,  1],\n",
       "       [ 4,  1,  9],\n",
       "       [ 3,  5,  7],\n",
       "       [ 4,  6,  7],\n",
       "       [ 6,  4,  9],\n",
       "       [ 7,  5,  5],\n",
       "       [ 4,  9,  5],\n",
       "       [ 4,  2,  3],\n",
       "       [ 3,  3,  5],\n",
       "       [ 3,  2,  3],\n",
       "       [ 5,  2,  2],\n",
       "       [ 5,  3,  7],\n",
       "       [ 3,  4,  4],\n",
       "       [ 8,  4,  1],\n",
       "       [ 2,  4,  6],\n",
       "       [ 4,  4,  2],\n",
       "       [ 3,  6,  5],\n",
       "       [ 3,  2,  7],\n",
       "       [ 3,  7,  5],\n",
       "       [ 3,  9,  7],\n",
       "       [ 2,  2,  4],\n",
       "       [ 2,  8,  7],\n",
       "       [ 5,  5,  6],\n",
       "       [ 3,  4,  6],\n",
       "       [ 4,  7,  7],\n",
       "       [ 4,  4,  2],\n",
       "       [ 5,  7,  3],\n",
       "       [ 4,  6,  5],\n",
       "       [ 5,  3,  5],\n",
       "       [ 5,  0,  4],\n",
       "       [ 5,  3,  6],\n",
       "       [ 2,  6,  6],\n",
       "       [ 3,  6,  5],\n",
       "       [ 7,  7,  3],\n",
       "       [ 7,  1,  4],\n",
       "       [ 4,  5,  3],\n",
       "       [ 9, 11,  5],\n",
       "       [ 5,  2,  6],\n",
       "       [ 8, 10,  5]])"
      ]
     },
     "execution_count": 107,
     "metadata": {},
     "output_type": "execute_result"
    }
   ],
   "source": [
    "p=np.random.poisson(5,size=(50,3))\n",
    "p"
   ]
  },
  {
   "cell_type": "code",
   "execution_count": 108,
   "metadata": {},
   "outputs": [
    {
     "data": {
      "text/plain": [
       "array([4, 2, 1, ..., 3, 3, 2])"
      ]
     },
     "execution_count": 108,
     "metadata": {},
     "output_type": "execute_result"
    }
   ],
   "source": [
    "p=np.random.poisson(3,size=10000)\n",
    "p"
   ]
  },
  {
   "cell_type": "code",
   "execution_count": 111,
   "metadata": {},
   "outputs": [
    {
     "data": {
      "text/plain": [
       "<matplotlib.axes._subplots.AxesSubplot at 0x230ac2f3848>"
      ]
     },
     "execution_count": 111,
     "metadata": {},
     "output_type": "execute_result"
    },
    {
     "data": {
      "image/png": "[encoded data removed]",
      "text/plain": [
       "<Figure size 432x288 with 1 Axes>"
      ]
     },
     "metadata": {
      "needs_background": "light"
     },
     "output_type": "display_data"
    }
   ],
   "source": [
    "arr = np.random.poisson(lam = 3, size = 10_000)\n",
    "series = pd.Series(arr, name = 'Poisson')\n",
    "sns.histplot(series, kde = True)"
   ]
  },
  {
   "cell_type": "code",
   "execution_count": 113,
   "metadata": {},
   "outputs": [
    {
     "data": {
      "text/plain": [
       "array(['b', 'd', 'a', 'a', 'd', 'a', 'd', 'b', 'a', 'c'], dtype='<U1')"
      ]
     },
     "execution_count": 113,
     "metadata": {},
     "output_type": "execute_result"
    }
   ],
   "source": [
    "ch=np.random.choice(['a','b','c','d'],size=10)\n",
    "ch"
   ]
  },
  {
   "cell_type": "code",
   "execution_count": 116,
   "metadata": {},
   "outputs": [],
   "source": [
    "dataframe=np.random.normal(size=(100,7)),np.random.uniform(size=(100,7)),np.random.binomial(6,0.6,size=(100,7)),np.random.exponential(size=(100,7)),np.random.poisson(10,size=(100,7)),np.random.normal(100,15,size=(100,7)),np.random.randint(50,100,size=(100,7))"
   ]
  },
  {
   "cell_type": "code",
   "execution_count": 117,
   "metadata": {},
   "outputs": [
    {
     "ename": "ValueError",
     "evalue": "Must pass 2-d input",
     "output_type": "error",
     "traceback": [
      "\u001b[1;31m---------------------------------------------------------------------------\u001b[0m",
      "\u001b[1;31mValueError\u001b[0m                                Traceback (most recent call last)",
      "\u001b[1;32m<ipython-input-117-0a676977ea80>\u001b[0m in \u001b[0;36m<module>\u001b[1;34m\u001b[0m\n\u001b[1;32m----> 1\u001b[1;33m \u001b[0mpd\u001b[0m\u001b[1;33m.\u001b[0m\u001b[0mDataFrame\u001b[0m\u001b[1;33m(\u001b[0m\u001b[0mdataframe\u001b[0m\u001b[1;33m,\u001b[0m\u001b[0mcolumns\u001b[0m\u001b[1;33m=\u001b[0m\u001b[0mlist\u001b[0m\u001b[1;33m(\u001b[0m\u001b[1;34m'ABCDEFG'\u001b[0m\u001b[1;33m)\u001b[0m\u001b[1;33m)\u001b[0m\u001b[1;33m\u001b[0m\u001b[1;33m\u001b[0m\u001b[0m\n\u001b[0m",
      "\u001b[1;32m~\\anaconda3\\lib\\site-packages\\pandas\\core\\frame.py\u001b[0m in \u001b[0;36m__init__\u001b[1;34m(self, data, index, columns, dtype, copy)\u001b[0m\n\u001b[0;32m    486\u001b[0m                     \u001b[0mmgr\u001b[0m \u001b[1;33m=\u001b[0m \u001b[0marrays_to_mgr\u001b[0m\u001b[1;33m(\u001b[0m\u001b[0marrays\u001b[0m\u001b[1;33m,\u001b[0m \u001b[0mcolumns\u001b[0m\u001b[1;33m,\u001b[0m \u001b[0mindex\u001b[0m\u001b[1;33m,\u001b[0m \u001b[0mcolumns\u001b[0m\u001b[1;33m,\u001b[0m \u001b[0mdtype\u001b[0m\u001b[1;33m=\u001b[0m\u001b[0mdtype\u001b[0m\u001b[1;33m)\u001b[0m\u001b[1;33m\u001b[0m\u001b[1;33m\u001b[0m\u001b[0m\n\u001b[0;32m    487\u001b[0m                 \u001b[1;32melse\u001b[0m\u001b[1;33m:\u001b[0m\u001b[1;33m\u001b[0m\u001b[1;33m\u001b[0m\u001b[0m\n\u001b[1;32m--> 488\u001b[1;33m                     \u001b[0mmgr\u001b[0m \u001b[1;33m=\u001b[0m \u001b[0minit_ndarray\u001b[0m\u001b[1;33m(\u001b[0m\u001b[0mdata\u001b[0m\u001b[1;33m,\u001b[0m \u001b[0mindex\u001b[0m\u001b[1;33m,\u001b[0m \u001b[0mcolumns\u001b[0m\u001b[1;33m,\u001b[0m \u001b[0mdtype\u001b[0m\u001b[1;33m=\u001b[0m\u001b[0mdtype\u001b[0m\u001b[1;33m,\u001b[0m \u001b[0mcopy\u001b[0m\u001b[1;33m=\u001b[0m\u001b[0mcopy\u001b[0m\u001b[1;33m)\u001b[0m\u001b[1;33m\u001b[0m\u001b[1;33m\u001b[0m\u001b[0m\n\u001b[0m\u001b[0;32m    489\u001b[0m             \u001b[1;32melse\u001b[0m\u001b[1;33m:\u001b[0m\u001b[1;33m\u001b[0m\u001b[1;33m\u001b[0m\u001b[0m\n\u001b[0;32m    490\u001b[0m                 \u001b[0mmgr\u001b[0m \u001b[1;33m=\u001b[0m \u001b[0minit_dict\u001b[0m\u001b[1;33m(\u001b[0m\u001b[1;33m{\u001b[0m\u001b[1;33m}\u001b[0m\u001b[1;33m,\u001b[0m \u001b[0mindex\u001b[0m\u001b[1;33m,\u001b[0m \u001b[0mcolumns\u001b[0m\u001b[1;33m,\u001b[0m \u001b[0mdtype\u001b[0m\u001b[1;33m=\u001b[0m\u001b[0mdtype\u001b[0m\u001b[1;33m)\u001b[0m\u001b[1;33m\u001b[0m\u001b[1;33m\u001b[0m\u001b[0m\n",
      "\u001b[1;32m~\\anaconda3\\lib\\site-packages\\pandas\\core\\internals\\construction.py\u001b[0m in \u001b[0;36minit_ndarray\u001b[1;34m(values, index, columns, dtype, copy)\u001b[0m\n\u001b[0;32m    167\u001b[0m     \u001b[1;31m# by definition an array here\u001b[0m\u001b[1;33m\u001b[0m\u001b[1;33m\u001b[0m\u001b[1;33m\u001b[0m\u001b[0m\n\u001b[0;32m    168\u001b[0m     \u001b[1;31m# the dtypes will be coerced to a single dtype\u001b[0m\u001b[1;33m\u001b[0m\u001b[1;33m\u001b[0m\u001b[1;33m\u001b[0m\u001b[0m\n\u001b[1;32m--> 169\u001b[1;33m     \u001b[0mvalues\u001b[0m \u001b[1;33m=\u001b[0m \u001b[0mprep_ndarray\u001b[0m\u001b[1;33m(\u001b[0m\u001b[0mvalues\u001b[0m\u001b[1;33m,\u001b[0m \u001b[0mcopy\u001b[0m\u001b[1;33m=\u001b[0m\u001b[0mcopy\u001b[0m\u001b[1;33m)\u001b[0m\u001b[1;33m\u001b[0m\u001b[1;33m\u001b[0m\u001b[0m\n\u001b[0m\u001b[0;32m    170\u001b[0m \u001b[1;33m\u001b[0m\u001b[0m\n\u001b[0;32m    171\u001b[0m     \u001b[1;32mif\u001b[0m \u001b[0mdtype\u001b[0m \u001b[1;32mis\u001b[0m \u001b[1;32mnot\u001b[0m \u001b[1;32mNone\u001b[0m\u001b[1;33m:\u001b[0m\u001b[1;33m\u001b[0m\u001b[1;33m\u001b[0m\u001b[0m\n",
      "\u001b[1;32m~\\anaconda3\\lib\\site-packages\\pandas\\core\\internals\\construction.py\u001b[0m in \u001b[0;36mprep_ndarray\u001b[1;34m(values, copy)\u001b[0m\n\u001b[0;32m    293\u001b[0m         \u001b[0mvalues\u001b[0m \u001b[1;33m=\u001b[0m \u001b[0mvalues\u001b[0m\u001b[1;33m.\u001b[0m\u001b[0mreshape\u001b[0m\u001b[1;33m(\u001b[0m\u001b[1;33m(\u001b[0m\u001b[0mvalues\u001b[0m\u001b[1;33m.\u001b[0m\u001b[0mshape\u001b[0m\u001b[1;33m[\u001b[0m\u001b[1;36m0\u001b[0m\u001b[1;33m]\u001b[0m\u001b[1;33m,\u001b[0m \u001b[1;36m1\u001b[0m\u001b[1;33m)\u001b[0m\u001b[1;33m)\u001b[0m\u001b[1;33m\u001b[0m\u001b[1;33m\u001b[0m\u001b[0m\n\u001b[0;32m    294\u001b[0m     \u001b[1;32melif\u001b[0m \u001b[0mvalues\u001b[0m\u001b[1;33m.\u001b[0m\u001b[0mndim\u001b[0m \u001b[1;33m!=\u001b[0m \u001b[1;36m2\u001b[0m\u001b[1;33m:\u001b[0m\u001b[1;33m\u001b[0m\u001b[1;33m\u001b[0m\u001b[0m\n\u001b[1;32m--> 295\u001b[1;33m         \u001b[1;32mraise\u001b[0m \u001b[0mValueError\u001b[0m\u001b[1;33m(\u001b[0m\u001b[1;34m\"Must pass 2-d input\"\u001b[0m\u001b[1;33m)\u001b[0m\u001b[1;33m\u001b[0m\u001b[1;33m\u001b[0m\u001b[0m\n\u001b[0m\u001b[0;32m    296\u001b[0m \u001b[1;33m\u001b[0m\u001b[0m\n\u001b[0;32m    297\u001b[0m     \u001b[1;32mreturn\u001b[0m \u001b[0mvalues\u001b[0m\u001b[1;33m\u001b[0m\u001b[1;33m\u001b[0m\u001b[0m\n",
      "\u001b[1;31mValueError\u001b[0m: Must pass 2-d input"
     ]
    }
   ],
   "source": [
    "pd.DataFrame(dataframe,columns=list('ABCDEFG'))"
   ]
  },
  {
   "cell_type": "code",
   "execution_count": 6,
   "metadata": {},
   "outputs": [
    {
     "data": {
      "text/html": [
       "<div>\n",
       "<style scoped>\n",
       "    .dataframe tbody tr th:only-of-type {\n",
       "        vertical-align: middle;\n",
       "    }\n",
       "\n",
       "    .dataframe tbody tr th {\n",
       "        vertical-align: top;\n",
       "    }\n",
       "\n",
       "    .dataframe thead th {\n",
       "        text-align: right;\n",
       "    }\n",
       "</style>\n",
       "<table border=\"1\" class=\"dataframe\">\n",
       "  <thead>\n",
       "    <tr style=\"text-align: right;\">\n",
       "      <th></th>\n",
       "      <th>A</th>\n",
       "      <th>B</th>\n",
       "      <th>C</th>\n",
       "      <th>D</th>\n",
       "      <th>E</th>\n",
       "      <th>F</th>\n",
       "      <th>G</th>\n",
       "    </tr>\n",
       "  </thead>\n",
       "  <tbody>\n",
       "    <tr>\n",
       "      <th>0</th>\n",
       "      <td>0.251306</td>\n",
       "      <td>0.955034</td>\n",
       "      <td>6</td>\n",
       "      <td>0.078936</td>\n",
       "      <td>6</td>\n",
       "      <td>93.017643</td>\n",
       "      <td>2648</td>\n",
       "    </tr>\n",
       "    <tr>\n",
       "      <th>1</th>\n",
       "      <td>1.329077</td>\n",
       "      <td>0.169462</td>\n",
       "      <td>3</td>\n",
       "      <td>0.336707</td>\n",
       "      <td>13</td>\n",
       "      <td>73.319841</td>\n",
       "      <td>2950</td>\n",
       "    </tr>\n",
       "    <tr>\n",
       "      <th>2</th>\n",
       "      <td>-0.718952</td>\n",
       "      <td>0.263836</td>\n",
       "      <td>2</td>\n",
       "      <td>1.922937</td>\n",
       "      <td>16</td>\n",
       "      <td>103.903615</td>\n",
       "      <td>221</td>\n",
       "    </tr>\n",
       "    <tr>\n",
       "      <th>3</th>\n",
       "      <td>0.484073</td>\n",
       "      <td>0.128374</td>\n",
       "      <td>3</td>\n",
       "      <td>1.049459</td>\n",
       "      <td>9</td>\n",
       "      <td>91.053378</td>\n",
       "      <td>315</td>\n",
       "    </tr>\n",
       "    <tr>\n",
       "      <th>4</th>\n",
       "      <td>0.579498</td>\n",
       "      <td>0.104665</td>\n",
       "      <td>4</td>\n",
       "      <td>0.711745</td>\n",
       "      <td>7</td>\n",
       "      <td>72.525855</td>\n",
       "      <td>1190</td>\n",
       "    </tr>\n",
       "    <tr>\n",
       "      <th>...</th>\n",
       "      <td>...</td>\n",
       "      <td>...</td>\n",
       "      <td>...</td>\n",
       "      <td>...</td>\n",
       "      <td>...</td>\n",
       "      <td>...</td>\n",
       "      <td>...</td>\n",
       "    </tr>\n",
       "    <tr>\n",
       "      <th>95</th>\n",
       "      <td>-1.823093</td>\n",
       "      <td>0.168633</td>\n",
       "      <td>5</td>\n",
       "      <td>1.128422</td>\n",
       "      <td>9</td>\n",
       "      <td>82.642975</td>\n",
       "      <td>779</td>\n",
       "    </tr>\n",
       "    <tr>\n",
       "      <th>96</th>\n",
       "      <td>0.044969</td>\n",
       "      <td>0.586693</td>\n",
       "      <td>4</td>\n",
       "      <td>0.571004</td>\n",
       "      <td>11</td>\n",
       "      <td>116.298382</td>\n",
       "      <td>2102</td>\n",
       "    </tr>\n",
       "    <tr>\n",
       "      <th>97</th>\n",
       "      <td>0.863160</td>\n",
       "      <td>0.105856</td>\n",
       "      <td>3</td>\n",
       "      <td>0.457031</td>\n",
       "      <td>9</td>\n",
       "      <td>82.389129</td>\n",
       "      <td>1535</td>\n",
       "    </tr>\n",
       "    <tr>\n",
       "      <th>98</th>\n",
       "      <td>0.789985</td>\n",
       "      <td>0.676147</td>\n",
       "      <td>3</td>\n",
       "      <td>0.002155</td>\n",
       "      <td>8</td>\n",
       "      <td>91.450421</td>\n",
       "      <td>2268</td>\n",
       "    </tr>\n",
       "    <tr>\n",
       "      <th>99</th>\n",
       "      <td>0.088729</td>\n",
       "      <td>0.828305</td>\n",
       "      <td>6</td>\n",
       "      <td>2.193690</td>\n",
       "      <td>9</td>\n",
       "      <td>89.230168</td>\n",
       "      <td>106</td>\n",
       "    </tr>\n",
       "  </tbody>\n",
       "</table>\n",
       "<p>100 rows × 7 columns</p>\n",
       "</div>"
      ],
      "text/plain": [
       "           A         B  C         D   E           F     G\n",
       "0   0.251306  0.955034  6  0.078936   6   93.017643  2648\n",
       "1   1.329077  0.169462  3  0.336707  13   73.319841  2950\n",
       "2  -0.718952  0.263836  2  1.922937  16  103.903615   221\n",
       "3   0.484073  0.128374  3  1.049459   9   91.053378   315\n",
       "4   0.579498  0.104665  4  0.711745   7   72.525855  1190\n",
       "..       ...       ... ..       ...  ..         ...   ...\n",
       "95 -1.823093  0.168633  5  1.128422   9   82.642975   779\n",
       "96  0.044969  0.586693  4  0.571004  11  116.298382  2102\n",
       "97  0.863160  0.105856  3  0.457031   9   82.389129  1535\n",
       "98  0.789985  0.676147  3  0.002155   8   91.450421  2268\n",
       "99  0.088729  0.828305  6  2.193690   9   89.230168   106\n",
       "\n",
       "[100 rows x 7 columns]"
      ]
     },
     "execution_count": 6,
     "metadata": {},
     "output_type": "execute_result"
    }
   ],
   "source": [
    "n = 100  #number of observations\n",
    "data = {\n",
    "    'A': np.random.normal(size = n),\n",
    "    'B': np.random.uniform(size = n),\n",
    "    'C': np.random.binomial(n = 6, p = 0.6, size = n),\n",
    "    'D': np.random.standard_exponential(size = n),\n",
    "    'E': np.random.poisson(lam = 10, size = n),\n",
    "    'F': np.random.normal(loc = 100, scale = 15, size = n),\n",
    "    'G': np.random.randint(low = 50, high = 3000, size = n)}\n",
    "df = pd.DataFrame(data)\n",
    "df"
   ]
  },
  {
   "cell_type": "code",
   "execution_count": 7,
   "metadata": {},
   "outputs": [
    {
     "data": {
      "text/plain": [
       "array([[4.2687335 , 1.74623114, 1.26813516, 2.41668578, 0.51336952],\n",
       "       [1.45281225, 1.14651878, 1.25076601, 1.53949111, 2.23973986],\n",
       "       [0.67101882, 6.22700093, 4.39907238, 4.8843524 , 1.23764445],\n",
       "       [2.32065129, 1.43350104, 3.67194781, 6.77870376, 5.52692701],\n",
       "       [0.60268784, 1.19349508, 1.98162197, 4.03091925, 2.14110437]])"
      ]
     },
     "execution_count": 7,
     "metadata": {},
     "output_type": "execute_result"
    }
   ],
   "source": [
    "arr1 = np.random.chisquare(df = 3, size = (5, 5))\n",
    "arr1"
   ]
  },
  {
   "cell_type": "code",
   "execution_count": 8,
   "metadata": {},
   "outputs": [
    {
     "data": {
      "image/png": "[encoded data removed]",
      "text/plain": [
       "<Figure size 432x288 with 1 Axes>"
      ]
     },
     "metadata": {
      "needs_background": "light"
     },
     "output_type": "display_data"
    }
   ],
   "source": [
    "arr2 = np.random.chisquare(df = 2, size = 2_000)\n",
    "plt.figure(figsize = (10, 8))\n",
    "sns.histplot(arr2, kde = True, color = 'red');"
   ]
  },
  {
   "cell_type": "code",
   "execution_count": 9,
   "metadata": {},
   "outputs": [
    {
     "data": {
      "text/plain": [
       "array([[0.42066336, 0.7123181 ],\n",
       "       [1.17088721, 7.56184718]])"
      ]
     },
     "execution_count": 9,
     "metadata": {},
     "output_type": "execute_result"
    }
   ],
   "source": [
    "arr3 = np.random.exponential(scale = 5, size = (2, 2))\n",
    "arr3"
   ]
  },
  {
   "cell_type": "code",
   "execution_count": 10,
   "metadata": {},
   "outputs": [
    {
     "data": {
      "text/plain": [
       "array([ 2.04960079,  4.78535189,  4.54061416,  5.77771288,  8.90236024,\n",
       "        5.52960066,  5.30779755,  3.99782271,  5.84046478,  5.04494721,\n",
       "        1.53524323,  3.72905559,  0.82364983,  3.73570631,  4.54444858,\n",
       "        2.64297757,  4.32040275,  4.80134765,  4.84096668,  4.09664978,\n",
       "        5.52958094,  4.5159474 ,  8.08222543,  4.1651483 ,  5.34162877,\n",
       "        6.57343987,  6.24194832,  7.3463663 ,  5.38209695,  5.5406725 ,\n",
       "        5.44963682,  6.79313585,  4.09898733,  5.935467  ,  3.91749213,\n",
       "        7.81918036,  3.78010495,  4.34898586,  6.50913414,  5.910442  ,\n",
       "        5.15409219,  3.93779068,  7.4516562 ,  6.54056168,  8.21224502,\n",
       "        6.24413795,  6.55811924,  5.75673446,  6.12869814,  6.20698686,\n",
       "        7.19173286,  2.06076963,  5.04361191,  3.05536852,  5.00607579,\n",
       "        7.02500665,  4.57419681,  3.49124201,  4.20996706,  3.87141497,\n",
       "        7.81312275,  4.04206653,  5.70064617,  6.29491393,  1.54861846,\n",
       "        1.28976621,  5.64434275,  3.93090064,  7.56660987,  4.80339537,\n",
       "        5.41296115,  4.85629169,  5.55609614,  5.98362926,  6.6344321 ,\n",
       "        5.24449728,  2.61800662,  6.25166672,  4.58231055,  4.92348509,\n",
       "        5.46117992,  3.84309085,  5.19707409,  5.76841405,  5.12816662,\n",
       "        4.62357473,  5.35663325,  5.54812823,  5.48286157,  6.05645443,\n",
       "        5.1801895 ,  7.92804811,  4.90524948,  7.69498576,  5.15763646,\n",
       "        1.31332248,  4.71903729,  7.01751403,  4.61039175, -0.59999602])"
      ]
     },
     "execution_count": 10,
     "metadata": {},
     "output_type": "execute_result"
    }
   ],
   "source": [
    "np.random.logistic(5,0.9,size=100)"
   ]
  },
  {
   "cell_type": "code",
   "execution_count": 20,
   "metadata": {},
   "outputs": [
    {
     "data": {
      "image/png": "[encoded data removed]",
      "text/plain": [
       "<Figure size 576x360 with 1 Axes>"
      ]
     },
     "metadata": {
      "needs_background": "light"
     },
     "output_type": "display_data"
    }
   ],
   "source": [
    "import matplotlib.pyplot as plt\n",
    "size=100\n",
    "mean=1\n",
    "std=0.5\n",
    "d={\n",
    "    'A':np.random.normal(mean,std,size),\n",
    "    'B':np.random.logistic(mean,std,size),\n",
    "}\n",
    "df=pd.DataFrame(d)\n",
    "dist = ['A', 'B']\n",
    "plt.figure(figsize = (8, 5))\n",
    "sns.kdeplot(data = df, x = 'A')\n",
    "sns.kdeplot(data = df, x = 'B')\n",
    "plt.legend(dist, loc = 'upper left')\n",
    "plt.xlabel('values')\n",
    "plt.show()"
   ]
  },
  {
   "cell_type": "code",
   "execution_count": null,
   "metadata": {},
   "outputs": [],
   "source": [
    "np.linalg."
   ]
  }
 ],
 "metadata": {
  "kernelspec": {
   "display_name": "Python 3",
   "language": "python",
   "name": "python3"
  },
  "language_info": {
   "codemirror_mode": {
    "name": "ipython",
    "version": 3
   },
   "file_extension": ".py",
   "mimetype": "text/x-python",
   "name": "python",
   "nbconvert_exporter": "python",
   "pygments_lexer": "ipython3",
   "version": "3.7.6"
  }
 },
 "nbformat": 4,
 "nbformat_minor": 4
}
